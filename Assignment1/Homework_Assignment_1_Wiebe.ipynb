{
 "cells": [
  {
   "cell_type": "markdown",
   "metadata": {},
   "source": [
    "Please **submit this Jupyter notebook through Canvas** no later than **Monday November 4, 8:59**, before the start of the lecture.\n",
    "\n",
    "Homework is in **groups of two**, and you are expected to hand in original work. Work that is copied from another group will not be accepted."
   ]
  },
  {
   "cell_type": "code",
   "execution_count": 6,
   "metadata": {},
   "outputs": [],
   "source": [
    "import numpy as np"
   ]
  },
  {
   "cell_type": "markdown",
   "metadata": {},
   "source": [
    "-----\n",
    "# Exercise 0\n",
    "In the box below, write down the names + student ID of the people in your group."
   ]
  },
  {
   "cell_type": "markdown",
   "metadata": {},
   "source": [
    "Julien Fer 10649441\n",
    "Wiebe Jelsma 12468223"
   ]
  },
  {
   "cell_type": "markdown",
   "metadata": {},
   "source": [
    "-----\n",
    "# Exercise 1\n",
    "This exercise is a variant of exercise 1.6 in the book.\n",
    "\n",
    "## (a) \n",
    "Lookup the Taylor series for $\\cos(x)$.&nbsp;&nbsp;&nbsp;&nbsp;&nbsp;&nbsp;&nbsp;&nbsp;&nbsp;&nbsp; _<font size=2>(You don't have to hand in the series expansion)</font>_\n",
    "## (b)\n",
    "What are the forward and backward errors if we approximate $\\cos(x)$ by the first **two** nonzero terms in the Taylor series at $x = 0.2$, $x = 1.0$ and $x = 2.0$?\n",
    " "
   ]
  },
  {
   "cell_type": "markdown",
   "metadata": {},
   "source": [
    "Write your answer, using $\\LaTeX$, in this box. <br>\n",
    "Pay attention, there might be rounding errors! We choose to display the first 4 digits, because the book chose the same.\n",
    "We made use of the Maclaurin series, so we assume a = 0. \n",
    "### Taylor series:\n",
    "\n",
    "Taylor series for cos(x):\n",
    "$1-\\frac{x^2}{2!} + \\frac{x^4}{4!} - ... + \\frac{x^n}{n!}$\n",
    "For the first two nonzero terms we use $1-\\frac{x^2}{2!}$ <br>\n",
    "When x = 0.2, this will give us: <br>\n",
    "$1 - \\frac{0.2^2}{2}$ which results in 0.98. <br>\n",
    "When x is 1, this gives $1 - \\frac{1^2}{2}$ which results in 0.5 and x = 2 gives us \n",
    "$1 - \\frac{2^2}{2}$ which results in -1.<br>\n",
    "### Forward erros:\n",
    "\n",
    "The real value of cos(0.2) = 0.9801, cos(1) = 0.5403 and cos(2) = -0.4161 \n",
    "The discrepancy between the computed and true values, ∆y = ˆ y−y, is called the forward error. \n",
    "\n",
    "For $x = 0.2$, we see that the forward error is $0.98 - cos(0.2) = -0.0001$.<br>\n",
    "For $x = 1$ we will see a forward error of $0.5 - cos(1) = -0.0403$. <br>\n",
    "$x = 2$ we find $-1 - cos(2) = -0.5839$. We see that the forward error gets bigger when x becomes bigger. <br> \n",
    "### Backward errors:\n",
    "\n",
    "We can find the backwards error with arccos. You have to take the arcoss of the value you found. For $x = 1:$\n",
    "we take the arccos of the value we found. We filled in $1 - \\frac{1^2}{2}$ which leads to 0.5. We then take the arccos of 0.5, which is 1.0472. We then subtract x, so 1. We find $arccos(0.5) - 1 = 0.0472$. <br>\n",
    "For $x = 0.2$, we found $1 - \\frac{0.2^2}{2}$ which is 0.98. We take arccos of 0.98, which is 0.2003. We find $arccos(0.98) - 0.2 = 0.0003$. <rb>\n",
    "Now $x = 2$. We found that value -1. Arccos of -1 is 3.1416, thus the backward error of $x = 2$ is calculated by $arccos(-1) - 2 = 1.1416$. <br>\n",
    "Thus, for x = 0.2 we have an forward error of -0.0001 and a backwards error of 0.0003. <br>\n",
    "Thus, for x = 1 we have an forward error of -0.0403 and a backwards error of 0.0472. <br>\n",
    "Thus, for x = 2 we have an forward error of -0.5839 and a backwards error of 1.1416. <br>"
   ]
  },
  {
   "cell_type": "markdown",
   "metadata": {},
   "source": [
    "## (c)\n",
    "What are the forward and backward errors if we approximate $\\cos(x)$ by the first **three** nonzero terms in the Taylor series at $x = 0.2$, $x = 1.0$ and $x = 2.0$?"
   ]
  },
  {
   "cell_type": "markdown",
   "metadata": {},
   "source": [
    "Write your answer, using $\\LaTeX$, in this box.\n",
    "### Taylor series:\n",
    "Taylor series for cos(x) with three nonzero is:\n",
    "$1-\\frac{x^2}{2!} + \\frac{x^4}{4!}$ \n",
    "When x = 0.2 we get $1-\\frac{0.2^2}{2!} + \\frac{0.2^4}{4!}$ we get 0.9801.\n",
    "For x = 1 we find 0.5417 and for x = 2 we get -(1/3) <br>\n",
    "### Forward error: \n",
    "\n",
    "$x = 0.2: $ will lead to $0.9801 - cos(0.2) = 0.0000$, <br> $x = 1$ gives $0.5417 - cos(1) = 0.0014$ and <br>$x = 2$ results in $-\\frac{1}{3}$ $- cos(2) = 0.0828$. <br>Just like we saw in 1.B, the forward errors become lower when x becomes lower as well. <br>\n",
    "### Backward error\n",
    "$x = 0.2:$ <br>\n",
    "The value we found was 0.9801, we use this for arccos.  <br>\n",
    "$arccos(0.9801) - 0.2 = -0.0002$\n",
    "<br>\n",
    "$x = 1:$ the value we found was 0.5417, we use this for arccos. This gives: 0.9983381. <br>\n",
    "$arccos(0.5417) - 1 = -0.0017$\n",
    "<br>\n",
    "$x = 2:$ the value we found was -1/3, we use this for arccos. This gives: 1.91063324. <br>\n",
    "$arccos(-1/3) - 2 = -0.0894$\n",
    "\n",
    "\n",
    "Thus, for x = 0.2 we have an forward error of 0.0000 and a backwards error of -0.0002. <br>\n",
    "Thus, for x = 1 we have an forward error of 0.0014 and a backwards error of -0.0017. <br>\n",
    "Thus, for x = 2 we have an forward error of 0.0828 and a backwards error of -0.0894. <br>"
   ]
  },
  {
   "cell_type": "markdown",
   "metadata": {},
   "source": [
    "## (d)\n",
    "Compute the relative condition of $x \\mapsto \\cos(x)$ at $x = 0.2$, $x=1.0$ and $x=2.0$."
   ]
  },
  {
   "cell_type": "markdown",
   "metadata": {},
   "source": [
    "### Relative change: \n",
    "((^y - y) / y) / ((^x - x) /x) <br>\n",
    "For $x = 1$ we get: <br>\n",
    "$ \\frac{0.5 - 0.5403}  {0.5403} / \\frac{1.0472 - 1}  {1} = -1.5803$ <br>\n",
    "For $x = 0.2$ we get: <br>\n",
    "$ \\frac{0.98 - 0.9800666} {0.9800666} / \\frac{0.19999 - 0.2} {0.2} = 1.3591$ <br>\n",
    "For $x = 2$ we get: <br>\n",
    "$ \\frac{0.3333 - -0.4161} {-0.4161} / \\frac{1.9106 - 2} {2} = 40.2910$ <br>\n",
    "When the values are around 1, we can say that the problem and the inverse problem are well-conditioned. Thus, the problems $x = 0.2$ and $x = 1$ are well-conditioned, but for $x = 2$ we find an answer way higher than 1, so it is ill-conditioned."
   ]
  },
  {
   "cell_type": "markdown",
   "metadata": {},
   "source": [
    "-----\n",
    "# Exercise 2\n",
    "This is computer exercise 1.16 from the book.\n",
    "\n",
    "Write a program that sums $n$ random, **single-precision** floating-point numbers $x_i$, uniformly distributed on the interval $[0,1]$. Sum the numbers in each of the following ways (use only single-precision floating-point variables unless specifically indicated otherwise).\n",
    "\n",
    "## (a)\n",
    "Sum the numbers in the order in which they were generated, using a double-precision variable in which to accumulate the sum.\n",
    "\n",
    "Put your solution code in the box below."
   ]
  },
  {
   "cell_type": "code",
   "execution_count": null,
   "metadata": {},
   "outputs": [],
   "source": [
    "# Hint: consider the module random or numpy.random."
   ]
  },
  {
   "cell_type": "markdown",
   "metadata": {},
   "source": [
    "## (b) \n",
    "Sum the numbers in the order in which they were generated, this time using a single-precision accumulator."
   ]
  },
  {
   "cell_type": "code",
   "execution_count": null,
   "metadata": {},
   "outputs": [],
   "source": [
    "# Write your solution code in this box."
   ]
  },
  {
   "cell_type": "markdown",
   "metadata": {},
   "source": [
    "## (c)\n",
    "Use the following _compensated summation_ algorithm (due to Kahan), again using only single precision, to sum the numbers in the order in which they were generated:\n",
    "\n",
    "$\n",
    "s = x_1\\\\\n",
    "c = 0\\\\\n",
    "\\textbf{for } i = 2 \\textbf{ to } n\\\\\n",
    "\\quad y = x_i - c\\\\\n",
    "\\quad t = s+y\\\\\n",
    "\\quad c = (t-s) - y\\\\\n",
    "\\quad s = t\\\\\n",
    "\\textbf{end}\n",
    "$"
   ]
  },
  {
   "cell_type": "code",
   "execution_count": null,
   "metadata": {},
   "outputs": [],
   "source": [
    "# Write your solution code in this box."
   ]
  },
  {
   "cell_type": "markdown",
   "metadata": {},
   "source": [
    "## (d) \n",
    "Sum the numbers in order of increasing magnitude (this will require that the numbers be sorted\n",
    "before summing, for which you may use a library sorting routine)."
   ]
  },
  {
   "cell_type": "code",
   "execution_count": null,
   "metadata": {},
   "outputs": [],
   "source": [
    "# Write your solution code in this box."
   ]
  },
  {
   "cell_type": "markdown",
   "metadata": {},
   "source": [
    "## (e) \n",
    "Sum the numbers in order of decreasing magnitude (i.e., reverse the order of summation from part (d))."
   ]
  },
  {
   "cell_type": "code",
   "execution_count": null,
   "metadata": {},
   "outputs": [],
   "source": [
    "# Write your solution code in this box."
   ]
  },
  {
   "cell_type": "markdown",
   "metadata": {},
   "source": [
    "## (f)\n",
    "\n",
    "Run your program for various values of $n$ and compare the results for methods (a) through (e). You may need to use a fairly large value for $n$ to see a substantial difference. How do the methods rank in terms of accuracy, and why? How do the methods compare in cost? Can you explain why the algorithm in part (c) works?"
   ]
  },
  {
   "cell_type": "markdown",
   "metadata": {},
   "source": [
    "Write your answer, using $\\LaTeX$, in this box."
   ]
  }
 ],
 "metadata": {
  "kernelspec": {
   "display_name": "Python 3",
   "language": "python",
   "name": "python3"
  },
  "language_info": {
   "codemirror_mode": {
    "name": "ipython",
    "version": 3
   },
   "file_extension": ".py",
   "mimetype": "text/x-python",
   "name": "python",
   "nbconvert_exporter": "python",
   "pygments_lexer": "ipython3",
   "version": "3.7.1"
  }
 },
 "nbformat": 4,
 "nbformat_minor": 2
}
