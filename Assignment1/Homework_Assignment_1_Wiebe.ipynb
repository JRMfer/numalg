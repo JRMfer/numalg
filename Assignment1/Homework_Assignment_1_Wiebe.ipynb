{
 "cells": [
  {
   "cell_type": "markdown",
   "metadata": {},
   "source": [
    "Please **submit this Jupyter notebook through Canvas** no later than **Monday November 4, 8:59**, before the start of the lecture.\n",
    "\n",
    "Homework is in **groups of two**, and you are expected to hand in original work. Work that is copied from another group will not be accepted."
   ]
  },
  {
   "cell_type": "code",
   "execution_count": 1,
   "metadata": {},
   "outputs": [],
   "source": [
    "import numpy as np"
   ]
  },
  {
   "cell_type": "markdown",
   "metadata": {},
   "source": [
    "-----\n",
    "# Exercise 0\n",
    "In the box below, write down the names + student ID of the people in your group."
   ]
  },
  {
   "cell_type": "markdown",
   "metadata": {},
   "source": [
    "Name1: Wiebe Jelsma <br>\n",
    "Name2: Julien Fer <br>\n",
    "Student_number1: 12468223 <br>\n",
    "Student_number2: 10649441 <br>"
   ]
  },
  {
   "cell_type": "markdown",
   "metadata": {},
   "source": [
    "-----\n",
    "# Exercise 1\n",
    "This exercise is a variant of exercise 1.6 in the book.\n",
    "\n",
    "## (a) \n",
    "Lookup the Taylor series for $\\cos(x)$.&nbsp;&nbsp;&nbsp;&nbsp;&nbsp;&nbsp;&nbsp;&nbsp;&nbsp;&nbsp; _<font size=2>(You don't have to hand in the series expansion)</font>_\n",
    "## (b)\n",
    "What are the forward and backward errors if we approximate $\\cos(x)$ by the first **two** nonzero terms in the Taylor series at $x = 0.2$, $x = 1.0$ and $x = 2.0$?\n",
    " "
   ]
  },
  {
   "cell_type": "code",
   "execution_count": 2,
   "metadata": {},
   "outputs": [
    {
     "name": "stdout",
     "output_type": "stream",
     "text": [
      "Forward error of x = 0.2 is  -6.657784124164401e-05\n",
      "Forward error of x = 1 is  -0.040302305868139765\n",
      "Forward error of x = 2 is  -0.5838531634528576\n",
      "Backward error of x = 0.2 is  0.00033484232311967177\n",
      "Backward error of x = 1 is  0.04719755119659785\n",
      "Backward error of x = 2 is  1.1415926535897931\n"
     ]
    }
   ],
   "source": [
    "def two_non_zero(x):\n",
    "    y = 1-(x**2/2)\n",
    "    return y\n",
    "\n",
    "x1 = 0.2\n",
    "x2 = 1\n",
    "x3 = 2\n",
    "\n",
    "FE_0 = two_non_zero(x1) - np.cos(0.2)\n",
    "FE_1 = two_non_zero(x2) - np.cos(1)\n",
    "FE_2 = two_non_zero(x3) - np.cos(2)\n",
    "print(\"Forward error of x = 0.2 is \", FE_0)\n",
    "print(\"Forward error of x = 1 is \", FE_1)\n",
    "print(\"Forward error of x = 2 is \", FE_2)\n",
    "\n",
    "BE_0 = np.arccos(two_non_zero(x1)) - x1\n",
    "BE_1 = np.arccos(two_non_zero(x2)) - x2\n",
    "BE_2 = np.arccos(two_non_zero(x3)) - x3\n",
    "print(\"Backward error of x = 0.2 is \", BE_0)\n",
    "print(\"Backward error of x = 1 is \", BE_1)\n",
    "print(\"Backward error of x = 2 is \", BE_2)"
   ]
  },
  {
   "cell_type": "markdown",
   "metadata": {},
   "source": [
    "Pay attention, there might be rounding errors! We choose to display the first 4 digits, because the book chose the same.\n",
    "We made use of the Maclaurin series, so we assume a = 0. \n",
    "### Taylor series:\n",
    "\n",
    "Taylor series for cos(x):\n",
    "$1-\\frac{x^2}{2!} + \\frac{x^4}{4!} - ... + \\frac{x^n}{n!}$\n",
    "For the first two nonzero terms we use $1-\\frac{x^2}{2!}$ <br>\n",
    "When x = 0.2, this will give us: <br>\n",
    "$1 - \\frac{0.2^2}{2}$ which results in 0.98. <br>\n",
    "When x is 1, this gives $1 - \\frac{1^2}{2}$ which results in 0.5 and x = 2 gives us \n",
    "$1 - \\frac{2^2}{2}$ which results in -1.<br>\n",
    "### Forward erros:\n",
    "\n",
    "The real value of $cos(0.2) = 9.8001e-1$, $cos(1) = 5.4030e-1$ and $cos(2) = -4.1615e-1$. \n",
    "The discrepancy between the computed and true values, ∆y = ý−y, is called the forward error. \n",
    "\n",
    "For $x = 0.2$, we see that the forward error is $0.98 - cos(0.2) = -6.6578e-5$.<br>\n",
    "For $x = 1$ we will see a forward error of $0.5 - cos(1) = -4.0302e-2$. <br>\n",
    "$x = 2$ we find $-1 - cos(2) = -5.8385e-1$. We see that the forward error gets bigger when x becomes bigger. <br> \n",
    "### Backward errors:\n",
    "\n",
    "We can find the backwards error with arccos. You have to take the arcoss of the value you found. For $x = 1:$\n",
    "we take the arccos of the value we found. We filled in $1 - \\frac{1^2}{2}$ which leads to 0.5. We then take the arccos of 0.5, which is 1.0472. We then subtract x, so 1. We find $arccos(0.5) - 1 = 4.7198e-2$. <br>\n",
    "For $x = 0.2$, we found $1 - \\frac{0.2^2}{2}$ which is 0.98. We take arccos of 0.98, which is 0.2003. We find $arccos(0.98) - 0.2 = 3.3484e-4$. <rb>\n",
    "Now $x = 2$. We found that value -1. Arccos of -1 is 3.1416, thus the backward error of $x = 2$ is calculated by $arccos(-1) - 2 = 1.1416e0$. <br>\n",
    "### Summary:\n",
    "x | forward error | backward error\n",
    ":-- | :-: | --:\n",
    "0.2 | -6.6578e-5 | 3.3484e-4\n",
    "1 | -4.0302e-2 | 4.7198e-2\n",
    "2 | -5.8385e-1 | 1.1416e0\n"
   ]
  },
  {
   "cell_type": "markdown",
   "metadata": {},
   "source": [
    "## (c)\n",
    "What are the forward and backward errors if we approximate $\\cos(x)$ by the first **three** nonzero terms in the Taylor series at $x = 0.2$, $x = 1.0$ and $x = 2.0$?"
   ]
  },
  {
   "cell_type": "code",
   "execution_count": 3,
   "metadata": {},
   "outputs": [
    {
     "name": "stdout",
     "output_type": "stream",
     "text": [
      "Forward error of x = 0.2 is  8.882542501531532e-08\n",
      "Forward error of x = 1 is  0.0013643607985268646\n",
      "Forward error of x = 2 is  0.08281350321380904\n",
      "Backward error of x = 0.2 is  -4.4710234142764094e-07\n",
      "Backward error of x = 1 is  -0.0016222452979235413\n",
      "Backward error of x = 2 is  -0.0893667637509814\n"
     ]
    }
   ],
   "source": [
    "def three_non_zero(x):\n",
    "    y = 1-(x**2/2)+(x**4/(24))\n",
    "    return y\n",
    "FE_0_3 = three_non_zero(x1) - np.cos(0.2)\n",
    "FE_1_3 = three_non_zero(x2) - np.cos(1)\n",
    "FE_2_3 = three_non_zero(x3) - np.cos(2)\n",
    "print(\"Forward error of x = 0.2 is \", FE_0_3)\n",
    "print(\"Forward error of x = 1 is \", FE_1_3)\n",
    "print(\"Forward error of x = 2 is \", FE_2_3)\n",
    "\n",
    "BE_0_3 = np.arccos(three_non_zero(x1)) - x1\n",
    "BE_1_3 = np.arccos(three_non_zero(x2)) - x2\n",
    "BE_2_3 = np.arccos(three_non_zero(x3)) - x3\n",
    "print(\"Backward error of x = 0.2 is \", BE_0_3)\n",
    "print(\"Backward error of x = 1 is \", BE_1_3)\n",
    "print(\"Backward error of x = 2 is \", BE_2_3)"
   ]
  },
  {
   "cell_type": "markdown",
   "metadata": {},
   "source": [
    "### Taylor series:\n",
    "Taylor series for cos(x) with three nonzero is:\n",
    "$1-\\frac{x^2}{2!} + \\frac{x^4}{4!}$ \n",
    "When x = 0.2 we get $1-\\frac{0.2^2}{2!} + \\frac{0.2^4}{4!}$ we get 9.8007e-1.\n",
    "For x = 1 we find 5.4167e-1 and for x = 2 we get -3.3333e-1 <br>\n",
    "### Forward error: \n",
    "\n",
    "$x = 0.2: $ will lead to $9.8007e-1 - cos(0.2) = 8.8819e-8$, <br> $x = 1$ gives $5.4167e-1 - cos(1) = 1.3644e-3$ and <br>$x = 2$ results in $-\\frac{1}{3}$ $- cos(2) = 8.2814e-2$. <br>Just like we saw in 1.B, the forward errors become lower when x becomes lower as well. <br>\n",
    "### Backward error\n",
    "$x = 0.2:$ <br>\n",
    "The value we found was 9.8007e-1, we use this for arccos.  <br>\n",
    "$arccos(9.8007e-1) - 0.2 =  -1.683e-4$\n",
    "<br>\n",
    "$x = 1:$ the value we found was 5.4167e-1, we use this for arccos. This gives: 0.9983381. <br>\n",
    "$arccos(5.4167e-1) - 1 = -1.6222e-3$\n",
    "<br>\n",
    "$x = 2:$ the value we found was -1/3, we use this for arccos. This gives: 1.91063324. <br>\n",
    "$arccos(-1/3) - 2 = -8.9367e-2$\n",
    "\n",
    "### Summary:\n",
    "x | forward error | backward error\n",
    ":-- | :-: | --:\n",
    "0.2 | 8.8819e-8 | -4.47e-7\n",
    "1 | 1.3644e-3 | -1.6222e-3\n",
    "2 | 8.2814e-2 | -8.9367e-2\n"
   ]
  },
  {
   "cell_type": "markdown",
   "metadata": {},
   "source": [
    "## (d)\n",
    "Compute the relative condition of $x \\mapsto \\cos(x)$ at $x = 0.2$, $x=1.0$ and $x=2.0$."
   ]
  },
  {
   "cell_type": "markdown",
   "metadata": {},
   "source": [
    "### Relative change: \n",
    "((^y - y) / y) / ((^x - x) /x) <br>\n",
    "For $x = 1$ we get: <br>\n",
    "$ \\frac{\\frac{0.5 - 0.5403}  {0.5403}}  {\\frac{1.0472 - 1}  {1}} = -1.5803e0$ <br>\n",
    "For $x = 0.2$ we get: <br>\n",
    "$ \\frac{\\frac{0.98 - 0.9800666} {0.9800666}}  {\\frac{0.19999 - 0.2} {0.2}} = 1.3591$ <br>\n",
    "For $x = 2$ we get: <br>\n",
    "$ \\frac{\\frac{0.3333 - -0.4161} {-0.4161}} {\\frac{1.9106 - 2} {2}} = 40.2910$ <br>\n",
    "When the values are around 1, we can say that the problem and the inverse problem are well-conditioned. Thus, the problems $x = 0.2$ and $x = 1$ are well-conditioned, but for $x = 2$ we find an answer way higher than 1, so it is ill-conditioned.\n",
    "\n",
    "### For 2 non-zero:\n",
    "(forward error/y) / (backward error / x)\n",
    "##### $x = 0.2$:\n",
    "$ \\frac{\\frac{-6.6578e-5}{cos(0.2)}} {\\frac{3.3484e-4}{0.2}} = -4.0576e-2$\n",
    "##### $x = 1$:\n",
    "$ \\frac{\\frac{-4.0302e-2}{cos(1)}} {\\frac{4.7198e-2}{1}} = -1.5804e0$\n",
    "##### $x = 2$:\n",
    "\n",
    "$ \\frac{\\frac{-5.8385e-1}{cos(2)}} {\\frac{1.1416e0}{2}} = 2.4579e0$\n",
    "\n",
    "### For 3 non-zero:\n",
    "##### $x = 0.2$:\n",
    "$\\frac{\\frac{8.8819e-8}{cos(0.2)}} {\\frac{-4.47e-7}{0.2}} = -4.0548e-2$\n",
    "##### $x = 1$:\n",
    "$\\frac{\\frac{1.3644e-3}{cos(1)}} {\\frac{-1.6222e-3}{1}} = -1.5567e0$\n",
    "##### $x = 2$:\n",
    "$\\frac{\\frac{8.2814e-2}{cos(2)}} {\\frac{-8.9367e-2}{2}} = 4.4536e0$\n",
    "\n",
    "### Summary:\n",
    "x | 2 non-zero | 3 non-zero\n",
    ":-- | :-: | --:\n",
    "0.2 | -4.0576e-2 | -4.0548e-2\n",
    "1 | -1.5804e0 | -1.5567e0\n",
    "2 | 2.4579e0 | 4.4536e0"
   ]
  },
  {
   "cell_type": "markdown",
   "metadata": {},
   "source": [
    "-----\n",
    "# Exercise 2\n",
    "This is computer exercise 1.16 from the book.\n",
    "\n",
    "Write a program that sums $n$ random, **single-precision** floating-point numbers $x_i$, uniformly distributed on the interval $[0,1]$. Sum the numbers in each of the following ways (use only single-precision floating-point variables unless specifically indicated otherwise).\n",
    "\n",
    "## (a)\n",
    "Sum the numbers in the order in which they were generated, using a double-precision variable in which to accumulate the sum.\n",
    "\n",
    "Put your solution code in the box below."
   ]
  },
  {
   "cell_type": "code",
   "execution_count": 4,
   "metadata": {},
   "outputs": [],
   "source": [
    "# Hint: consider the module random or numpy.random."
   ]
  },
  {
   "cell_type": "markdown",
   "metadata": {},
   "source": [
    "## (b) \n",
    "Sum the numbers in the order in which they were generated, this time using a single-precision accumulator."
   ]
  },
  {
   "cell_type": "code",
   "execution_count": 5,
   "metadata": {},
   "outputs": [],
   "source": [
    "# Write your solution code in this box."
   ]
  },
  {
   "cell_type": "markdown",
   "metadata": {},
   "source": [
    "## (c)\n",
    "Use the following _compensated summation_ algorithm (due to Kahan), again using only single precision, to sum the numbers in the order in which they were generated:\n",
    "\n",
    "$\n",
    "s = x_1\\\\\n",
    "c = 0\\\\\n",
    "\\textbf{for } i = 2 \\textbf{ to } n\\\\\n",
    "\\quad y = x_i - c\\\\\n",
    "\\quad t = s+y\\\\\n",
    "\\quad c = (t-s) - y\\\\\n",
    "\\quad s = t\\\\\n",
    "\\textbf{end}\n",
    "$"
   ]
  },
  {
   "cell_type": "code",
   "execution_count": 6,
   "metadata": {},
   "outputs": [],
   "source": [
    "# Write your solution code in this box."
   ]
  },
  {
   "cell_type": "markdown",
   "metadata": {},
   "source": [
    "## (d) \n",
    "Sum the numbers in order of increasing magnitude (this will require that the numbers be sorted\n",
    "before summing, for which you may use a library sorting routine)."
   ]
  },
  {
   "cell_type": "code",
   "execution_count": 7,
   "metadata": {},
   "outputs": [],
   "source": [
    "# Write your solution code in this box."
   ]
  },
  {
   "cell_type": "markdown",
   "metadata": {},
   "source": [
    "## (e) \n",
    "Sum the numbers in order of decreasing magnitude (i.e., reverse the order of summation from part (d))."
   ]
  },
  {
   "cell_type": "code",
   "execution_count": 8,
   "metadata": {},
   "outputs": [],
   "source": [
    "# Write your solution code in this box."
   ]
  },
  {
   "cell_type": "markdown",
   "metadata": {},
   "source": [
    "## (f)\n",
    "\n",
    "Run your program for various values of $n$ and compare the results for methods (a) through (e). You may need to use a fairly large value for $n$ to see a substantial difference. How do the methods rank in terms of accuracy, and why? How do the methods compare in cost? Can you explain why the algorithm in part (c) works?"
   ]
  },
  {
   "cell_type": "markdown",
   "metadata": {},
   "source": [
    "Write your answer, using $\\LaTeX$, in this box."
   ]
  }
 ],
 "metadata": {
  "kernelspec": {
   "display_name": "Python 3",
   "language": "python",
   "name": "python3"
  },
  "language_info": {
   "codemirror_mode": {
    "name": "ipython",
    "version": 3
   },
   "file_extension": ".py",
   "mimetype": "text/x-python",
   "name": "python",
   "nbconvert_exporter": "python",
   "pygments_lexer": "ipython3",
   "version": "3.7.1"
  }
 },
 "nbformat": 4,
 "nbformat_minor": 4
}
