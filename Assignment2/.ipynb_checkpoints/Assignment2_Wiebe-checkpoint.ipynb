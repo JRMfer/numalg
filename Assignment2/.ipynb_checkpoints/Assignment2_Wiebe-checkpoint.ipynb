{
 "cells": [
  {
   "cell_type": "markdown",
   "metadata": {},
   "source": [
    "# Numerical Algorithms: Homework 2\n",
    "Please **submit this Jupyter notebook through Canvas** no later than **Monday November 11, 8:59**, before the start of the lecture.\n",
    "\n",
    "Homework is in **groups of two**, and you are expected to hand in original work. Work that is copied from another group will not be accepted."
   ]
  },
  {
   "cell_type": "markdown",
   "metadata": {},
   "source": [
    "-----\n",
    "# Exercise 0\n",
    "In the box below, write down the names + student ID of the people in your group."
   ]
  },
  {
   "cell_type": "markdown",
   "metadata": {},
   "source": [
    "Name1: Julien Fer <br>\n",
    "Name2: Wiebe Jelsma<br>\n",
    "Student_number1: 10649441<br>\n",
    "Student_number2: 12468223 <br>"
   ]
  },
  {
   "cell_type": "markdown",
   "metadata": {},
   "source": [
    "-----\n",
    "# Exercise 1\n",
    "Let $A$ be the matrix\n",
    "\n",
    "$$\n",
    "A = \\begin{bmatrix} -1 & \\alpha & 1 \\\\ 2 & 1 & -1 \\\\ \\alpha & 0 & 1 \\end{bmatrix}.\n",
    "$$\n",
    "\n",
    "## (a) \n",
    "For which values of $\\alpha$ is $A$ singular? Explain your answer."
   ]
  },
  {
   "cell_type": "markdown",
   "metadata": {},
   "source": [
    "Explain your answer, using $\\LaTeX$, in this cell.\n",
    "Explain your answer, using $\\LaTeX$, in this cell.\n",
    "Again, we rounded our answers to 4 decimals. <br><br>\n",
    "To find out if A is singular, we need to check the determinant. If the determinant is equal to 0, A is singular. <br>\n",
    "We get this by the following equation: <br>\n",
    "$A\\tiny{11}$ $* (A\\tiny{22}$$ * A\\tiny{33}$$ - A\\tiny{23}$$ * A\\tiny{32}$$) - A\\tiny{12}$$ * (A\\tiny{21}$$ * A\\tiny{32}$$ - A\\tiny{22}$$ * A\\tiny{31}$$) + A\\tiny{13}$$ * (A\\tiny{21}$$ * A\\tiny{32}$$ - A\\tiny{22}$$ * A\\tiny{31}$$)  $ <br>\n",
    "We fill this in with numbers: <br>\n",
    "$-1* (1*1 - -1*0) - \\alpha * (2*1 - -1*\\alpha) + 1 * (2*0 - 1*\\alpha) $ <br>\n",
    "This results in:\n",
    "$ -1* (1) - \\alpha * (2+ \\alpha) + 1 * (-\\alpha)$ <br>\n",
    "We get the following equation:\n",
    "$-1 -2\\alpha - \\alpha^2 - \\alpha $\n",
    "The determinant needs to be 0 for A to be singular, so we set the equation to be 0. We get <br>\n",
    "$-1 -2\\alpha - \\alpha^2 - \\alpha = 0$ <br>\n",
    "We rewrite it to: $-\\alpha^2 -2\\alpha -\\alpha -1 = 0 $. This can be written down as: <br>\n",
    "$\\alpha^2 + 2\\alpha + \\alpha + 1 = 0 $\n",
    "Thus, $\\alpha$ needs to be either $-3.8196e-1$ or $-2.6180e0$ for the matrix A to be singular"
   ]
  },
  {
   "cell_type": "markdown",
   "metadata": {},
   "source": [
    "-----\n",
    "# Exercise 2\n",
    "\n",
    "## (a) \n",
    "Investigate what happens when Gaussian elimination with partial pivoting is used on a matrix of the following form\n",
    "\n",
    "\\begin{equation}\n",
    "\\begin{bmatrix}\n",
    "1 & 0 & 0 & 0 & 1 \\\\\n",
    "-1 & 1 & 0 & 0 & 1 \\\\\n",
    "-1 & -1 & 1 & 0 & 1 \\\\\n",
    "-1 & -1 & -1 & 1 & 1 \\\\\n",
    "-1 & -1 & -1 & -1 & 1\n",
    "\\end{bmatrix}.\\label{eq:mat} \\tag{1}\n",
    "\\end{equation}\n",
    "\n",
    "State the resulting matrix $U$. Do the entries grow? What is the growth factor? (Note that this part does not require any computations/code.)\n"
   ]
  },
  {
   "cell_type": "markdown",
   "metadata": {},
   "source": [
    "Explain your answer, using $\\LaTeX$, in this cell. You can write a matrix like this: $\\begin{bmatrix}\n",
    "\\alpha & \\beta \\\\ \n",
    "\\beta^\\top & -\\gamma\n",
    "\\end{bmatrix}$."
   ]
  },
  {
   "cell_type": "markdown",
   "metadata": {},
   "source": [
    "## (b) \n",
    "What happens if complete pivoting is used instead? State the resulting matrix $U$. What is the growth factor in this case? (This part doesn't require any computations/code.)\n"
   ]
  },
  {
   "cell_type": "markdown",
   "metadata": {},
   "source": [
    "Explain your answer, using $\\LaTeX$, in this cell."
   ]
  },
  {
   "cell_type": "markdown",
   "metadata": {},
   "source": [
    "## (c) \n",
    "Write a function that creates $n \\times n$-matrices of this form $(1)$, for any given size $n$. Test it by generating a matrix for $n = 8$.\n"
   ]
  },
  {
   "cell_type": "code",
   "execution_count": 2,
   "metadata": {},
   "outputs": [],
   "source": [
    "# Write your implementation in this cell\n",
    "# Use comments to explain your code"
   ]
  },
  {
   "cell_type": "markdown",
   "metadata": {},
   "source": [
    "## (d) \n",
    "Use Gaussian elimination with partial pivoting to solve equations of the form $Ax = b$, with $A$ the matrix for $n = 60$, choosing right-hand-side vectors so that the solution is known.\n",
    "\n",
    "Do you observe that the results are useless because of the large growth factor? \n",
    "\n",
    "It is possible that you do not observe this, because the integer entries of $A$ may prevent rounding errors from occurring. If so, modify the problem slightly so that the growth factor is the same or nearly so and catastrophic rounding errors really do occur. \n",
    "\n",
    "State your computational results clearly to make your point.\n",
    "\n",
    "\n",
    "Note: This artificially contrived system illustrates the worst-case growth factor cited in section 2.4.5 of the book, and is not indicative of the usual behavior of Gaussian elimination with partial pivoting."
   ]
  },
  {
   "cell_type": "code",
   "execution_count": 3,
   "metadata": {},
   "outputs": [],
   "source": [
    "# Write your implementation in this cell\n",
    "# Use comments to explain your code"
   ]
  },
  {
   "cell_type": "markdown",
   "metadata": {},
   "source": [
    "Explain your answer, using $\\LaTeX$, in this cell."
   ]
  },
  {
   "cell_type": "markdown",
   "metadata": {},
   "source": [
    "-----\n",
    "# Exercise 3\n",
    "\n",
    "## (a) \n",
    "If $u$ and $v$ are nonzero $n$-vectors, prove that the $n×n$ outer product matrix $uv^\\top$ has rank one."
   ]
  },
  {
   "cell_type": "markdown",
   "metadata": {},
   "source": [
    "Explain your answer, using $\\LaTeX$, in this cell."
   ]
  },
  {
   "cell_type": "markdown",
   "metadata": {},
   "source": [
    "## (b)\n",
    "If $A$ is an $n×n$ matrix such that $\\mathop{rank}(A) = 1$, prove that there exist nonzero $n$-vectors $u$ and $v$ such that $A = uv^\\top$."
   ]
  },
  {
   "cell_type": "markdown",
   "metadata": {},
   "source": [
    "Explain your answer, using $\\LaTeX$, in this cell."
   ]
  }
 ],
 "metadata": {
  "kernelspec": {
   "display_name": "Python 3",
   "language": "python",
   "name": "python3"
  },
  "language_info": {
   "codemirror_mode": {
    "name": "ipython",
    "version": 3
   },
   "file_extension": ".py",
   "mimetype": "text/x-python",
   "name": "python",
   "nbconvert_exporter": "python",
   "pygments_lexer": "ipython3",
   "version": "3.7.1"
  }
 },
 "nbformat": 4,
 "nbformat_minor": 4
}
