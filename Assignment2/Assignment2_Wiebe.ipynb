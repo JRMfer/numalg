{
 "cells": [
  {
   "cell_type": "markdown",
   "metadata": {},
   "source": [
    "# Numerical Algorithms: Homework 2\n",
    "Please **submit this Jupyter notebook through Canvas** no later than **Monday November 11, 8:59**, before the start of the lecture.\n",
    "\n",
    "Homework is in **groups of two**, and you are expected to hand in original work. Work that is copied from another group will not be accepted."
   ]
  },
  {
   "cell_type": "markdown",
   "metadata": {},
   "source": [
    "-----\n",
    "# Exercise 0\n",
    "In the box below, write down the names + student ID of the people in your group."
   ]
  },
  {
   "cell_type": "markdown",
   "metadata": {},
   "source": [
    "Name1: Julien Fer <br>\n",
    "Name2: Wiebe Jelsma<br>\n",
    "Student_number1: 10649441<br>\n",
    "Student_number2: 12468223 <br>"
   ]
  },
  {
   "cell_type": "markdown",
   "metadata": {},
   "source": [
    "-----\n",
    "# Exercise 1\n",
    "Let $A$ be the matrix\n",
    "\n",
    "$$\n",
    "A = \\begin{bmatrix} -1 & \\alpha & 1 \\\\ 2 & 1 & -1 \\\\ \\alpha & 0 & 1 \\end{bmatrix}.\n",
    "$$\n",
    "\n",
    "## (a) \n",
    "For which values of $\\alpha$ is $A$ singular? Explain your answer."
   ]
  },
  {
   "cell_type": "markdown",
   "metadata": {},
   "source": [
    "Explain your answer, using $\\LaTeX$, in this cell.\n",
    "Explain your answer, using $\\LaTeX$, in this cell.\n",
    "Again, we rounded our answers to 4 decimals. <br><br>\n",
    "To find out if A is singular, we need to check the determinant. If the determinant is equal to 0, A is singular. <br>\n",
    "We get this by the following equation: <br>\n",
    "$A_{11}$ $* (A\\tiny{22}$$ * A\\tiny{33}$$ - A\\tiny{23}$$ * A\\tiny{32}$$) - A\\tiny{12}$$ * (A\\tiny{21}$$ * A\\tiny{32}$$ - A\\tiny{22}$$ * A\\tiny{31}$$) + A\\tiny{13}$$ * (A\\tiny{21}$$ * A\\tiny{32}$$ - A\\tiny{22}$$ * A\\tiny{31}$$)  $ <br>\n",
    "We fill this in with numbers: <br>\n",
    "$-1* (1*1 - -1*0) - \\alpha * (2*1 - -1*\\alpha) + 1 * (2*0 - 1*\\alpha) $ <br>\n",
    "This results in:\n",
    "$ -1* (1) - \\alpha * (2+ \\alpha) + 1 * (-\\alpha)$ <br>\n",
    "We get the following equation:\n",
    "$-1 -2\\alpha - \\alpha^2 - \\alpha $\n",
    "The determinant needs to be 0 for A to be singular, so we set the equation to be 0. We get <br>\n",
    "$-1 -2\\alpha - \\alpha^2 - \\alpha = 0$ <br>\n",
    "We rewrite it to: $-\\alpha^{2} -2\\alpha -\\alpha -1 = 0 $. This can be written down as: <br>\n",
    "$\\alpha^2 + 2\\alpha + \\alpha + 1 = 0 $\n",
    "Thus, $\\alpha$ needs to be either $-3.8196e^{-1}$ or $-2.6180$ for the matrix A to be singular"
   ]
  },
  {
   "cell_type": "markdown",
   "metadata": {},
   "source": [
    "-----\n",
    "# Exercise 2\n",
    "\n",
    "## (a) \n",
    "Investigate what happens when Gaussian elimination with partial pivoting is used on a matrix of the following form\n",
    "\n",
    "\\begin{equation}\n",
    "\\begin{bmatrix}\n",
    "1 & 0 & 0 & 0 & 1 \\\\\n",
    "-1 & 1 & 0 & 0 & 1 \\\\\n",
    "-1 & -1 & 1 & 0 & 1 \\\\\n",
    "-1 & -1 & -1 & 1 & 1 \\\\\n",
    "-1 & -1 & -1 & -1 & 1\n",
    "\\end{bmatrix}.\\label{eq:mat} \\tag{1}\n",
    "\\end{equation}\n",
    "\n",
    "State the resulting matrix $U$. Do the entries grow? What is the growth factor? (Note that this part does not require any computations/code.)\n"
   ]
  },
  {
   "cell_type": "code",
   "execution_count": 1,
   "metadata": {},
   "outputs": [
    {
     "name": "stdout",
     "output_type": "stream",
     "text": [
      "A:\n",
      "array([[ 1,  0,  0,  0,  1],\n",
      "       [-1,  1,  0,  0,  1],\n",
      "       [-1, -1,  1,  0,  1],\n",
      "       [-1, -1, -1,  1,  1],\n",
      "       [-1, -1, -1, -1,  1]])\n",
      "P:\n",
      "array([[1., 0., 0., 0., 0.],\n",
      "       [0., 1., 0., 0., 0.],\n",
      "       [0., 0., 1., 0., 0.],\n",
      "       [0., 0., 0., 1., 0.],\n",
      "       [0., 0., 0., 0., 1.]])\n",
      "L:\n",
      "array([[ 1.,  0.,  0.,  0.,  0.],\n",
      "       [-1.,  1.,  0.,  0.,  0.],\n",
      "       [-1., -1.,  1.,  0.,  0.],\n",
      "       [-1., -1., -1.,  1.,  0.],\n",
      "       [-1., -1., -1., -1.,  1.]])\n",
      "U:\n",
      "array([[ 1.,  0.,  0.,  0.,  1.],\n",
      "       [ 0.,  1.,  0.,  0.,  2.],\n",
      "       [ 0.,  0.,  1.,  0.,  4.],\n",
      "       [ 0.,  0.,  0.,  1.,  8.],\n",
      "       [ 0.,  0.,  0.,  0., 16.]])\n"
     ]
    }
   ],
   "source": [
    "import pprint\n",
    "import scipy\n",
    "import scipy.linalg   # SciPy Linear Algebra Library\n",
    "A = scipy.array([ [1 , 0 , 0 , 0 , 1], [-1 , 1 , 0 , 0 , 1], [-1 , -1, 1 , 0 , 1], [-1 , -1 , -1 , 1 , 1], [-1 , -1, -1 , -1 , 1] ])\n",
    "P, L, U = scipy.linalg.lu(A)\n",
    "print(\"A:\")\n",
    "pprint.pprint(A)\n",
    "\n",
    "print(\"P:\")\n",
    "pprint.pprint(P)\n",
    "\n",
    "print(\"L:\")\n",
    "pprint.pprint(L)\n",
    "\n",
    "print(\"U:\")\n",
    "pprint.pprint(U)"
   ]
  },
  {
   "cell_type": "markdown",
   "metadata": {},
   "source": [
    "Explain your answer, using $\\LaTeX$, in this cell. You can write a matrix like this: $\\begin{bmatrix}\n",
    "\\alpha & \\beta \\\\ \n",
    "\\beta^\\top & -\\gamma\n",
    "\\end{bmatrix}$.\n",
    "We make use of partial pivoting because we only exchange rows. In exercise b we will use complete pivoting, and for this we will make use of exchanging row and columns. <br>\n",
    "$A_{x} = LU_{x} = b$ <br>\n",
    "After using partial pivoting, we found the following matrix. <br>\n",
    "\\begin{equation}\n",
    "\\begin{bmatrix}\n",
    "1 & 0 & 0 & 0 & 1 \\\\\n",
    "0 & 1 & 0 & 0 & 2 \\\\\n",
    "0 & 0 & 1 & 0 & 4 \\\\\n",
    "0 & 0 & 0 & 1 & 8 \\\\\n",
    "0 & 0 & 0 & 0 & 16\n",
    "\\end{bmatrix}.\\label{eq:matrix} \\tag{2}\n",
    "\\end{equation}\n",
    "\n",
    "\n",
    "We can indeed see that the entries grow, with a growth rate of 16."
   ]
  },
  {
   "cell_type": "markdown",
   "metadata": {},
   "source": [
    "## (b) \n",
    "What happens if complete pivoting is used instead? State the resulting matrix $U$. What is the growth factor in this case? (This part doesn't require any computations/code.)\n"
   ]
  },
  {
   "cell_type": "markdown",
   "metadata": {},
   "source": [
    "Explain your answer, using $\\LaTeX$, in this cell.\n",
    "Now we will use complete pivot. This means that we can change both rows and columns.\n",
    "The outcome is different. We get a different growth factor, and differes results in matrix $U$. \n",
    "\\begin{equation}\n",
    "\\begin{bmatrix}\n",
    "1 & 1 & 0 & 0 & 0 \\\\\n",
    "0 & 2 & 1 & 0 & 0 \\\\\n",
    "0 & 0 & -2 & 1 & 0 \\\\\n",
    "0 & 0 & 0 & -2 & 1 \\\\\n",
    "0 & 0 & 0 & 0 & -2\n",
    "\\end{bmatrix}.\\label{eq:matrix} \\tag{2}\n",
    "\\end{equation} <br>\n",
    "We can see that the growth factor is 2. The growth factor is always an absolute value."
   ]
  },
  {
   "cell_type": "markdown",
   "metadata": {},
   "source": [
    "## (c) \n",
    "Write a function that creates $n \\times n$-matrices of this form $(1)$, for any given size $n$. Test it by generating a matrix for $n = 8$.\n"
   ]
  },
  {
   "cell_type": "code",
   "execution_count": 15,
   "metadata": {},
   "outputs": [
    {
     "name": "stdout",
     "output_type": "stream",
     "text": [
      "array([[ 1.,  0.,  0.,  0.,  0.,  0.,  0.,  1.],\n",
      "       [-1.,  1.,  0.,  0.,  0.,  0.,  0.,  1.],\n",
      "       [-1., -1.,  1.,  0.,  0.,  0.,  0.,  1.],\n",
      "       [-1., -1., -1.,  1.,  0.,  0.,  0.,  1.],\n",
      "       [-1., -1., -1., -1.,  1.,  0.,  0.,  1.],\n",
      "       [-1., -1., -1., -1., -1.,  1.,  0.,  1.],\n",
      "       [-1., -1., -1., -1., -1., -1.,  1.,  1.],\n",
      "       [-1., -1., -1., -1., -1., -1., -1.,  1.]])\n"
     ]
    }
   ],
   "source": [
    "import sympy\n",
    "import numpy as np\n",
    "n = 8\n",
    "C = np.eye(n)\n",
    "\n",
    "for i in range(n):\n",
    "    C[i,0:i] = -1\n",
    "    C[i, n-1] = 1\n",
    "    \n",
    "pprint.pprint(C)"
   ]
  },
  {
   "cell_type": "markdown",
   "metadata": {},
   "source": [
    "## (d) \n",
    "Use Gaussian elimination with partial pivoting to solve equations of the form $Ax = b$, with $A$ the matrix for $n = 60$, choosing right-hand-side vectors so that the solution is known.\n",
    "\n",
    "Do you observe that the results are useless because of the large growth factor? \n",
    "\n",
    "It is possible that you do not observe this, because the integer entries of $A$ may prevent rounding errors from occurring. If so, modify the problem slightly so that the growth factor is the same or nearly so and catastrophic rounding errors really do occur. \n",
    "\n",
    "State your computational results clearly to make your point.\n",
    "\n",
    "\n",
    "Note: This artificially contrived system illustrates the worst-case growth factor cited in section 2.4.5 of the book, and is not indicative of the usual behavior of Gaussian elimination with partial pivoting."
   ]
  },
  {
   "cell_type": "code",
   "execution_count": 3,
   "metadata": {},
   "outputs": [],
   "source": [
    "# Write your implementation in this cell\n",
    "# Use comments to explain your code"
   ]
  },
  {
   "cell_type": "markdown",
   "metadata": {},
   "source": [
    "Explain your answer, using $\\LaTeX$, in this cell."
   ]
  },
  {
   "cell_type": "markdown",
   "metadata": {},
   "source": [
    "-----\n",
    "# Exercise 3\n",
    "\n",
    "## (a) \n",
    "If $u$ and $v$ are nonzero $n$-vectors, prove that the $n×n$ outer product matrix $uv^\\top$ has rank one."
   ]
  },
  {
   "cell_type": "markdown",
   "metadata": {},
   "source": [
    "Explain your answer, using $\\LaTeX$, in this cell. <br>\n",
    "According to the Numerical algorithms book, An n×n matrix A is said to be nonsingular if it satisﬁes any one of the following equivalent conditions: \n",
    "1. A has an inverse (i.e., there is an n × n matrix, denoted by A−1, such that AA−1 = A−1A = I, the identity matrix). <br>\n",
    "2. $det(A) \\neq 0$ (i.e., the determinant of A is nonzero). <br>\n",
    "3. rank(A) = n (the rank of a matrix is the maximum number of linearly independent rows or columns it contains). <br>\n",
    "4. For any vector $z \\neq 0, Az \\neq 0 $(i.e., A annihilates no nontrivial vector). <br>\n",
    "We assume $u,v \\neq 0$ <br>\n",
    "$v_{i} = i,...,n$ and $u_{i} = i,...,m$. Therefore, $uv^T$ has the dimensions of $M x N$. <br>\n",
    "We see that $uv^T$ is <br>\n",
    "\n",
    "\\begin{align}\n",
    "  uv^T &= \\begin{bmatrix}\n",
    "         u_{1} \\\\\n",
    "         u_{2} \\\\\n",
    "         \\vdots \\\\\n",
    "         u_{m}\n",
    "       \\end{bmatrix}\n",
    "         \\begin{bmatrix}\n",
    "  v_{1}, v_{2}, ..., v_{n}\n",
    "  \\end{bmatrix}\n",
    "\\end{align}\n",
    "<br>\n",
    "\n",
    "The columns of $uv^T$ are dependent to the non-zero columns, because the columns of $uv^T$ are multiples of the first non-zero column of $v$. \n",
    "In other words, the $rank(uv^T)$ is determined by the $max(rank(u), rank(v))$ which equals 1.\n"
   ]
  },
  {
   "cell_type": "markdown",
   "metadata": {},
   "source": [
    "## (b)\n",
    "If $A$ is an $n×n$ matrix such that $\\mathop{rank}(A) = 1$, prove that there exist nonzero $n$-vectors $u$ and $v$ such that $A = uv^\\top$."
   ]
  },
  {
   "cell_type": "markdown",
   "metadata": {},
   "source": [
    "Explain your answer, using $\\LaTeX$, in this cell. <br>\n",
    "$rank(A) = 1$, so that means $u$ and $v$ have to be nonzero n-factors. When writing $uv^T$, we get: \\begin{align}\n",
    "   \\begin{bmatrix}\n",
    "         u_{1} \\\\\n",
    "         u_{2} \\\\\n",
    "         \\vdots \\\\\n",
    "         u_{m}\n",
    "       \\end{bmatrix}\n",
    "         \\begin{bmatrix}\n",
    "  v_{1}, v_{2}, ..., v_{n}\n",
    "  \\end{bmatrix}\n",
    "\\end{align}\n",
    "<br>\n",
    "If $u$ and $v$ are zero n-factors, it would not be possible to get a 1 for $rank(A)$. Therefore, because $rank(A) = 1$, $u$ and $v$ have to be nonzero n-factors. By multiplying $u$ with $v^T$ we get matrix A. We have to keep in mind that the columns of $uv^T$ are dependent on one independent column. This independent column builds up the matrix $A$ itself. Therefore, multiplying this independent column with $v^T$, we will get matrix $A$. "
   ]
  }
 ],
 "metadata": {
  "kernelspec": {
   "display_name": "Python 3",
   "language": "python",
   "name": "python3"
  },
  "language_info": {
   "codemirror_mode": {
    "name": "ipython",
    "version": 3
   },
   "file_extension": ".py",
   "mimetype": "text/x-python",
   "name": "python",
   "nbconvert_exporter": "python",
   "pygments_lexer": "ipython3",
   "version": "3.7.1"
  }
 },
 "nbformat": 4,
 "nbformat_minor": 4
}
