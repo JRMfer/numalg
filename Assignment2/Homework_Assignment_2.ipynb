{
 "cells": [
  {
   "cell_type": "markdown",
   "metadata": {},
   "source": [
    "# Numerical Algorithms: Homework 2\n",
    "Please **submit this Jupyter notebook through Canvas** no later than **Monday November 11, 8:59**, before the start of the lecture.\n",
    "\n",
    "Homework is in **groups of two**, and you are expected to hand in original work. Work that is copied from another group will not be accepted."
   ]
  },
  {
   "cell_type": "markdown",
   "metadata": {},
   "source": [
    "-----\n",
    "# Exercise 0\n",
    "In the box below, write down the names + student ID of the people in your group."
   ]
  },
  {
   "cell_type": "markdown",
   "metadata": {},
   "source": [
    "Name1: Wiebe Jelsma <br>\n",
    "Name2: Julien Fer <br>\n",
    "Student_number1: 12468223 <br>\n",
    "Student_number2: 10649441 <br>"
   ]
  },
  {
   "cell_type": "markdown",
   "metadata": {},
   "source": [
    "-----\n",
    "# Exercise 1\n",
    "Let $A$ be the matrix\n",
    "\n",
    "$$\n",
    "A = \\begin{bmatrix} -1 & \\alpha & 1 \\\\ 2 & 1 & -1 \\\\ \\alpha & 0 & 1 \\end{bmatrix}.\n",
    "$$\n",
    "\n",
    "## (a) \n",
    "For which values of $\\alpha$ is $A$ singular? Explain your answer."
   ]
  },
  {
   "cell_type": "markdown",
   "metadata": {},
   "source": [
    "To determine if $A$ is singular we need to find the determinant of the matrix. If the determinant is equal to 0, then the matrix $A$ is singular. We can use sarrus' rule in order to find the determinant of a $3 \\times 3$ matrix:\n",
    "$$\n",
    "det(A) = a_{11}a_{22}a_{33} + a_{12}a_{23}a_{31} + a_{13}a_{21}a_{32} - a_{31}a_{22}a_{13} - a_{32}a_{23}a_{11} - a_{33}a_{21}a_{12} \n",
    "$$ \n",
    "<br>\n",
    "$$\n",
    "= -1 \\cdot 1 \\cdot 1 + a \\cdot -1 \\cdot a + 1 \\cdot 2 \\cdot 0 - (a \\cdot 1 \\cdot 1) - (0 \\cdot -1 \\cdot -1) - (1 \\cdot 2 \\cdot a) \n",
    "$$\n",
    "<br>\n",
    "$$\n",
    "= -1 - a^{2} + 0 - a - 0 -2a = -a^{2} - 3a - 1\n",
    "$$\n",
    "Now we check for which values of $a$ the determinant is equal to zero <br>\n",
    "$$\n",
    "det(A) = 0 \\leftrightarrow -a^{2} - 3a - 1 = 0 \\leftrightarrow a^{2} + 3a + 1 = 0 \n",
    "$$\n",
    "$$\n",
    "a_{1,2} = \\frac{-3 \\pm \\sqrt{3^{2} - 4 \\cdot 1 \\cdot 1}}{2 \\cdot 1} = -\\frac{3}{2} \\pm \\frac{\\sqrt{5}}{2}\n",
    "$$\n",
    "Hence, for the values of $a$ the matrix $A$ is singular:\n",
    "$$\n",
    "a_{1} = -\\frac{3}{2} + \\frac{\\sqrt{5}}{2} \\approx -3.8196\\mathrm{e}^{1}\n",
    "$$ \n",
    "<br>\n",
    "$$\n",
    "a_{2} = -\\frac{3}{2} - \\frac{\\sqrt{5}}{2} \\approx -2.6180 \n",
    "$$"
   ]
  },
  {
   "cell_type": "markdown",
   "metadata": {},
   "source": [
    "-----\n",
    "# Exercise 2\n",
    "\n",
    "## (a) \n",
    "Investigate what happens when Gaussian elimination with partial pivoting is used on a matrix of the following form\n",
    "\n",
    "\\begin{equation}\n",
    "\\begin{bmatrix}\n",
    "1 & 0 & 0 & 0 & 1 \\\\\n",
    "-1 & 1 & 0 & 0 & 1 \\\\\n",
    "-1 & -1 & 1 & 0 & 1 \\\\\n",
    "-1 & -1 & -1 & 1 & 1 \\\\\n",
    "-1 & -1 & -1 & -1 & 1\n",
    "\\end{bmatrix}.\\label{eq:mat} \\tag{1}\n",
    "\\end{equation}\n",
    "\n",
    "State the resulting matrix $U$. Do the entries grow? What is the growth factor? (Note that this part does not require any computations/code.)\n"
   ]
  },
  {
   "cell_type": "markdown",
   "metadata": {},
   "source": [
    "Explain your answer, using $\\LaTeX$, in this cell. You can write a matrix like this: $\\begin{bmatrix}\n",
    "\\alpha & \\beta \\\\ \n",
    "\\beta^\\top & -\\gamma\n",
    "\\end{bmatrix}$."
   ]
  },
  {
   "cell_type": "markdown",
   "metadata": {},
   "source": [
    "## (b) \n",
    "What happens if complete pivoting is used instead? State the resulting matrix $U$. What is the growth factor in this case? (This part doesn't require any computations/code.)\n"
   ]
  },
  {
   "cell_type": "markdown",
   "metadata": {},
   "source": [
    "Explain your answer, using $\\LaTeX$, in this cell."
   ]
  },
  {
   "cell_type": "markdown",
   "metadata": {},
   "source": [
    "## (c) \n",
    "Write a function that creates $n \\times n$-matrices of this form $(1)$, for any given size $n$. Test it by generating a matrix for $n = 8$.\n"
   ]
  },
  {
   "cell_type": "code",
   "execution_count": 1,
   "metadata": {},
   "outputs": [],
   "source": [
    "# Write your implementation in this cell\n",
    "# Use comments to explain your code"
   ]
  },
  {
   "cell_type": "markdown",
   "metadata": {},
   "source": [
    "## (d) \n",
    "Use Gaussian elimination with partial pivoting to solve equations of the form $Ax = b$, with $A$ the matrix for $n = 60$, choosing right-hand-side vectors so that the solution is known.\n",
    "\n",
    "Do you observe that the results are useless because of the large growth factor? \n",
    "\n",
    "It is possible that you do not observe this, because the integer entries of $A$ may prevent rounding errors from occurring. If so, modify the problem slightly so that the growth factor is the same or nearly so and catastrophic rounding errors really do occur. \n",
    "\n",
    "State your computational results clearly to make your point.\n",
    "\n",
    "\n",
    "Note: This artificially contrived system illustrates the worst-case growth factor cited in section 2.4.5 of the book, and is not indicative of the usual behavior of Gaussian elimination with partial pivoting."
   ]
  },
  {
   "cell_type": "code",
   "execution_count": 2,
   "metadata": {},
   "outputs": [],
   "source": [
    "# Write your implementation in this cell\n",
    "# Use comments to explain your code"
   ]
  },
  {
   "cell_type": "markdown",
   "metadata": {},
   "source": [
    "Explain your answer, using $\\LaTeX$, in this cell."
   ]
  },
  {
   "cell_type": "markdown",
   "metadata": {},
   "source": [
    "-----\n",
    "# Exercise 3\n",
    "\n",
    "## (a) \n",
    "If $u$ and $v$ are nonzero $n$-vectors, prove that the $n×n$ outer product matrix $uv^\\top$ has rank one."
   ]
  },
  {
   "cell_type": "markdown",
   "metadata": {},
   "source": [
    "Explain your answer, using $\\LaTeX$, in this cell."
   ]
  },
  {
   "cell_type": "markdown",
   "metadata": {},
   "source": [
    "## (b)\n",
    "If $A$ is an $n×n$ matrix such that $\\mathop{rank}(A) = 1$, prove that there exist nonzero $n$-vectors $u$ and $v$ such that $A = uv^\\top$."
   ]
  },
  {
   "cell_type": "markdown",
   "metadata": {},
   "source": [
    "Explain your answer, using $\\LaTeX$, in this cell."
   ]
  }
 ],
 "metadata": {
  "kernelspec": {
   "display_name": "Python 3",
   "language": "python",
   "name": "python3"
  },
  "language_info": {
   "codemirror_mode": {
    "name": "ipython",
    "version": 3
   },
   "file_extension": ".py",
   "mimetype": "text/x-python",
   "name": "python",
   "nbconvert_exporter": "python",
   "pygments_lexer": "ipython3",
   "version": "3.7.1"
  }
 },
 "nbformat": 4,
 "nbformat_minor": 4
}
