{
 "cells": [
  {
   "cell_type": "markdown",
   "metadata": {},
   "source": [
    "# Numerical Algorithms: Homework 2\n",
    "Please **submit this Jupyter notebook through Canvas** no later than **Monday November 11, 8:59**, before the start of the lecture.\n",
    "\n",
    "Homework is in **groups of two**, and you are expected to hand in original work. Work that is copied from another group will not be accepted."
   ]
  },
  {
   "cell_type": "markdown",
   "metadata": {},
   "source": [
    "-----\n",
    "# Exercise 0\n",
    "In the box below, write down the names + student ID of the people in your group."
   ]
  },
  {
   "cell_type": "markdown",
   "metadata": {},
   "source": [
    "Name1: Wiebe Jelsma <br>\n",
    "Name2: Julien Fer <br>\n",
    "Student_number1: 12468223 <br>\n",
    "Student_number2: 10649441 <br>"
   ]
  },
  {
   "cell_type": "markdown",
   "metadata": {},
   "source": [
    "-----\n",
    "# Exercise 1\n",
    "Let $A$ be the matrix\n",
    "\n",
    "$$\n",
    "A = \\begin{bmatrix} -1 & \\alpha & 1 \\\\ 2 & 1 & -1 \\\\ \\alpha & 0 & 1 \\end{bmatrix}.\n",
    "$$\n",
    "\n",
    "## (a) \n",
    "For which values of $\\alpha$ is $A$ singular? Explain your answer."
   ]
  },
  {
   "cell_type": "markdown",
   "metadata": {},
   "source": [
    "To determine if $A$ is singular we need to find the determinant of the matrix. If the determinant is equal to 0, then the matrix $A$ is singular. We can use sarrus' rule in order to find the determinant of a $3 \\times 3$ matrix:\n",
    "$$\n",
    "det(A) = a_{11}a_{22}a_{33} + a_{12}a_{23}a_{31} + a_{13}a_{21}a_{32} - a_{31}a_{22}a_{13} - a_{32}a_{23}a_{11} - a_{33}a_{21}a_{12} \n",
    "$$ \n",
    "<br>\n",
    "$$\n",
    "= -1 \\cdot 1 \\cdot 1 + a \\cdot -1 \\cdot a + 1 \\cdot 2 \\cdot 0 - (a \\cdot 1 \\cdot 1) - (0 \\cdot -1 \\cdot -1) - (1 \\cdot 2 \\cdot a) \n",
    "$$\n",
    "<br>\n",
    "$$\n",
    "= -1 - a^{2} + 0 - a - 0 -2a = -a^{2} - 3a - 1\n",
    "$$\n",
    "Now we check for which values of $a$ the determinant is equal to zero <br>\n",
    "$$\n",
    "det(A) = 0 \\leftrightarrow -a^{2} - 3a - 1 = 0 \\leftrightarrow a^{2} + 3a + 1 = 0 \n",
    "$$\n",
    "$$\n",
    "a_{1,2} = \\frac{-3 \\pm \\sqrt{3^{2} - 4 \\cdot 1 \\cdot 1}}{2 \\cdot 1} = -\\frac{3}{2} \\pm \\frac{\\sqrt{5}}{2}\n",
    "$$\n",
    "Hence, for the values of $a$ the matrix $A$ is singular:\n",
    "$$\n",
    "a_{1} = -\\frac{3}{2} + \\frac{\\sqrt{5}}{2} \\approx -3.8196\\mathrm{e}^{1}\n",
    "$$ \n",
    "<br>\n",
    "$$\n",
    "a_{2} = -\\frac{3}{2} - \\frac{\\sqrt{5}}{2} \\approx -2.6180 \n",
    "$$"
   ]
  },
  {
   "cell_type": "markdown",
   "metadata": {},
   "source": [
    "-----\n",
    "# Exercise 2\n",
    "\n",
    "## (a) \n",
    "Investigate what happens when Gaussian elimination with partial pivoting is used on a matrix of the following form\n",
    "\n",
    "\\begin{equation}\n",
    "\\begin{bmatrix}\n",
    "1 & 0 & 0 & 0 & 1 \\\\\n",
    "-1 & 1 & 0 & 0 & 1 \\\\\n",
    "-1 & -1 & 1 & 0 & 1 \\\\\n",
    "-1 & -1 & -1 & 1 & 1 \\\\\n",
    "-1 & -1 & -1 & -1 & 1\n",
    "\\end{bmatrix}.\\label{eq:mat} \\tag{1}\n",
    "\\end{equation}\n",
    "\n",
    "State the resulting matrix $U$. Do the entries grow? What is the growth factor? (Note that this part does not require any computations/code.)\n"
   ]
  },
  {
   "cell_type": "markdown",
   "metadata": {},
   "source": [
    "Explain your answer, using $\\LaTeX$, in this cell. You can write a matrix like this: $\\begin{bmatrix}\n",
    "\\alpha & \\beta \\\\ \n",
    "\\beta^\\top & -\\gamma\n",
    "\\end{bmatrix}$.\n",
    "We make use of partial pivoting because we only exchange rows. In exercise b we will use complete pivoting, and for this we will make use of exchanging row and columns. <br>\n",
    "$A_{x} = LU_{x} = b$ <br>\n",
    "After using partial pivoting, we found the following matrix. <br>\n",
    "\\begin{equation}\n",
    "\\begin{bmatrix}\n",
    "1 & 0 & 0 & 0 & 1 \\\\\n",
    "0 & 1 & 0 & 0 & 2 \\\\\n",
    "0 & 0 & 1 & 0 & 4 \\\\\n",
    "0 & 0 & 0 & 1 & 8 \\\\\n",
    "0 & 0 & 0 & 0 & 16\n",
    "\\end{bmatrix}.\\label{eq:matrix} \\tag{2}\n",
    "\\end{equation}\n",
    "\n",
    "\n",
    "We can indeed see that the entries grow, with a growth rate of 16."
   ]
  },
  {
   "cell_type": "markdown",
   "metadata": {},
   "source": [
    "## (b) \n",
    "What happens if complete pivoting is used instead? State the resulting matrix $U$. What is the growth factor in this case? (This part doesn't require any computations/code.)\n"
   ]
  },
  {
   "cell_type": "markdown",
   "metadata": {},
   "source": [
    "Explain your answer, using $\\LaTeX$, in this cell.\n",
    "Now we will use complete pivot. This means that we can change both rows and columns.\n",
    "\n",
    "\\begin{equation}\n",
    "\\begin{bmatrix}\n",
    "1 & 1 & 0 & 0 & 0 \\\\\n",
    "0 & 2 & 1 & 0 & 0 \\\\\n",
    "0 & 0 & -2 & 1 & 0 \\\\\n",
    "0 & 0 & 0 & -2 & 1 \\\\\n",
    "0 & 0 & 0 & 0 & -2\n",
    "\\end{bmatrix}.\\label{eq:matrix} \\tag{2}\n",
    "\\end{equation}"
   ]
  },
  {
   "cell_type": "markdown",
   "metadata": {},
   "source": [
    "## (c) \n",
    "Write a function that creates $n \\times n$-matrices of this form $(1)$, for any given size $n$. Test it by generating a matrix for $n = 8$.\n"
   ]
  },
  {
   "cell_type": "code",
   "execution_count": 1,
   "metadata": {},
   "outputs": [
    {
     "name": "stdout",
     "output_type": "stream",
     "text": [
      "[[ 1.  0.  0.  0.  0.  0.  0.  1.]\n",
      " [-1.  1.  0.  0.  0.  0.  0.  1.]\n",
      " [-1. -1.  1.  0.  0.  0.  0.  1.]\n",
      " [-1. -1. -1.  1.  0.  0.  0.  1.]\n",
      " [-1. -1. -1. -1.  1.  0.  0.  1.]\n",
      " [-1. -1. -1. -1. -1.  1.  0.  1.]\n",
      " [-1. -1. -1. -1. -1. -1.  1.  1.]\n",
      " [-1. -1. -1. -1. -1. -1. -1.  1.]]\n"
     ]
    }
   ],
   "source": [
    "# import modules (numpy)\n",
    "import numpy as np\n",
    "\n",
    "def create_matrix(n):\n",
    "    \"\"\"\n",
    "    Creates an n x n matrix with 1 on the diagonal and entire last column\n",
    "    and -1 belows the diagonal.\n",
    "    \"\"\"\n",
    "    \n",
    "    matrix = np.zeros((n, n))\n",
    "    for row in range(n):\n",
    "        for col in range(n):\n",
    "            \n",
    "            # sets 1 if on diagonal or last column\n",
    "            if row == col or col == n - 1:\n",
    "                matrix[row, col] = 1\n",
    "                \n",
    "            # set -1 if element is underneat diagonal\n",
    "            elif col < row:\n",
    "                matrix[row, col] = -1\n",
    "            \n",
    "    return matrix\n",
    "\n",
    "matrix = create_matrix(8)\n",
    "print(matrix)"
   ]
  },
  {
   "cell_type": "markdown",
   "metadata": {},
   "source": [
    "## (d) \n",
    "Use Gaussian elimination with partial pivoting to solve equations of the form $Ax = b$, with $A$ the matrix for $n = 60$, choosing right-hand-side vectors so that the solution is known.\n",
    "\n",
    "Do you observe that the results are useless because of the large growth factor? \n",
    "\n",
    "It is possible that you do not observe this, because the integer entries of $A$ may prevent rounding errors from occurring. If so, modify the problem slightly so that the growth factor is the same or nearly so and catastrophic rounding errors really do occur. \n",
    "\n",
    "State your computational results clearly to make your point.\n",
    "\n",
    "\n",
    "Note: This artificially contrived system illustrates the worst-case growth factor cited in section 2.4.5 of the book, and is not indicative of the usual behavior of Gaussian elimination with partial pivoting."
   ]
  },
  {
   "cell_type": "code",
   "execution_count": 2,
   "metadata": {},
   "outputs": [],
   "source": [
    "# Write your implementation in this cell\n",
    "# Use comments to explain your code\n",
    "\n",
    "def partial_pivoting(matrix):\n",
    "    \"\"\"\n",
    "    Perform Gaussian elimination with partial pivoting \n",
    "    to solve equation of the form Ax = b.\n",
    "    \"\"\"\n",
    "    \n",
    "    rows, cols = matrix.shape\n",
    "    assert rows == cols, \"LU decmposition only works for square matrices\"\n",
    "    \n",
    "    # set up track variables for final permutation (P), lower-triangular (L)\n",
    "    # and upper triangular matrix\n",
    "    PF = np.identity(cols)\n",
    "    LF = np.identity(cols)\n",
    "    U = matrix.copy()\n",
    "    \n",
    "    # perform partial pivoting\n",
    "    for col in range(cols - 1):\n",
    "        \n",
    "        # find index row with highest absolute value for given column\n",
    "        index = np.argmax(abs(U[col:, col])) + col\n",
    "        P = np.identity(cols)\n",
    "        \n",
    "        # if necessary, determine intermidiate permutation matrix, swap rows and keep track\n",
    "        # of final permutation (P) and lower triangular (L) matrix\n",
    "        if index != col:\n",
    "            P[[index, col], col:] = P[[col, index], col:]\n",
    "            U[[index, col], col:] = U[[col, index], col:]\n",
    "            PF = P @ PF\n",
    "            \n",
    "        # set \"new\" elimination matrix and corresponding lower triangular matrix\n",
    "        M = np.identity(cols)\n",
    "        L = np.identity(cols)\n",
    "        for i in range(col + 1, rows):\n",
    "            M[i, col] = -(U[i, col] / U[col, col])\n",
    "            L[i, col] = (U[i, col] / U[col, col])\n",
    "           \n",
    "        # keep track of final lower traingular matrix \n",
    "        # (as rows are already swap there is no need for a matrix multiplication with P)\n",
    "        if not col:\n",
    "            LF = L\n",
    "        else:\n",
    "            LF = LF @ L\n",
    "            \n",
    "        # update upper triangular matrix\n",
    "        U = M @ U\n",
    "        \n",
    "    return PF, LF, U\n",
    "\n",
    "# Next two functions could be formulated thank to the following link:\n",
    "# https://gist.github.com/mikofski/11192605\n",
    "def forward_sub(L, B):\n",
    "    \"\"\"\n",
    "    Forward substitution to solve for Ly = B\n",
    "    \"\"\"\n",
    "    y = np.zeros(B.size)\n",
    "    for m, b in enumerate(B.flatten()):\n",
    "        \n",
    "        # compute solution component\n",
    "        y[m] = b / L[m, m]\n",
    "        \n",
    "        # skip for loop if m == 0\n",
    "        if m:\n",
    "            for n in range(m):\n",
    "                y[m] -= y[n] * L[m,n]\n",
    "    return y\n",
    "    \n",
    "def backward_sub(U, B, y):\n",
    "    \"\"\"\n",
    "    Backward substitution to solve for y = Ux\n",
    "    \"\"\"\n",
    "\n",
    "    x = np.zeros(B.size)\n",
    "    lastidx = B.size - 1  # last index\n",
    "    for midx in range(B.size):\n",
    "        m = B.size - 1 - midx  # backwards index\n",
    "        x[m] = y[m]\n",
    "        if midx:\n",
    "            for nidx in range(midx):\n",
    "                n = B.size - 1  - nidx\n",
    "                x[m] -= x[n] * U[m,n]\n",
    "        x[m] /= U[m, m]\n",
    "    return x"
   ]
  },
  {
   "cell_type": "code",
   "execution_count": 3,
   "metadata": {},
   "outputs": [],
   "source": [
    "from scipy.linalg import lu, lu_factor, lu_solve\n",
    "\n",
    "# create matrix and start LU decompistion\n",
    "N = 60\n",
    "matrix = create_matrix(N)\n",
    "P, L, U = partial_pivoting(matrix)\n",
    "\n",
    "# check LU decomposition\n",
    "p, l, u, = lu(matrix)\n",
    "assert np.allclose(P, p) and np.allclose(L, l) and np.allclose(U, u), \"LU decomposition went wrong\"\n",
    "\n",
    "# custom solution linear system\n",
    "B = np.linspace(-10, N , N)\n",
    "# B = np.random.randint(-50, 50, N)\n",
    "y = forward_sub(L, B)\n",
    "x_custom = backward_sub(U, B, y)\n",
    "# print(x_custom)\n",
    "\n",
    "# test custom solution with that of scipy\n",
    "lu, piv = lu_factor(matrix)\n",
    "x = lu_solve((lu, piv), B)\n",
    "# print(x)\n",
    "assert np.allclose(x_custom, x), \"Solution not found\""
   ]
  },
  {
   "cell_type": "markdown",
   "metadata": {},
   "source": [
    "Explain your answer, using $\\LaTeX$, in this cell."
   ]
  },
  {
   "cell_type": "markdown",
   "metadata": {},
   "source": [
    "-----\n",
    "# Exercise 3\n",
    "\n",
    "## (a) \n",
    "If $u$ and $v$ are nonzero $n$-vectors, prove that the $n×n$ outer product matrix $uv^\\top$ has rank one."
   ]
  },
  {
   "cell_type": "markdown",
   "metadata": {},
   "source": [
    "Explain your answer, using $\\LaTeX$, in this cell. <br>\n",
    "According to the Numerical algorithms book, An n×n matrix A is said to be nonsingular if it satisﬁes any one of the following equivalent conditions: \n",
    "1. A has an inverse (i.e., there is an n × n matrix, denoted by A−1, such that AA−1 = A−1A = I, the identity matrix). <br>\n",
    "2. $det(A) \\neq 0$ (i.e., the determinant of A is nonzero). <br>\n",
    "3. rank(A) = n (the rank of a matrix is the maximum number of linearly independent rows or columns it contains). <br>\n",
    "4. For any vector $z \\neq 0, Az \\neq 0 $(i.e., A annihilates no nontrivial vector). <br>\n",
    "We assume $u,v \\neq 0$ <br>\n",
    "$v_{i} = i,...,n$ and $u_{i} = i,...,m$. Therefore, $uv^T$ has the dimensions of $M x N$. <br>\n",
    "We see that $uv^T$ is <br>\n",
    "\n",
    "\\begin{align}\n",
    "  uv^T &= \\begin{bmatrix}\n",
    "         u_{1} \\\\\n",
    "         u_{2} \\\\\n",
    "         \\vdots \\\\\n",
    "         u_{m}\n",
    "       \\end{bmatrix}\n",
    "         \\begin{bmatrix}\n",
    "  v_{1}, v_{2}, ..., v_{n}\n",
    "  \\end{bmatrix}\n",
    "\\end{align}\n",
    "<br>\n",
    "\n",
    "The columns of $uv^T$ are dependent to the non-zero columns, because the columns of $uv^T$ are multiples of the first non-zero column of $v$. \n",
    "In other words, the $rank(uv^T)$ is determined by the $max(rank(u), rank(v))$ which equals 1.\n"
   ]
  },
  {
   "cell_type": "markdown",
   "metadata": {},
   "source": [
    "## (b)\n",
    "If $A$ is an $n×n$ matrix such that $\\mathop{rank}(A) = 1$, prove that there exist nonzero $n$-vectors $u$ and $v$ such that $A = uv^\\top$."
   ]
  },
  {
   "cell_type": "markdown",
   "metadata": {},
   "source": [
    "Explain your answer, using $\\LaTeX$, in this cell. <br>\n",
    "$rank(A) = 1$, so that means $u$ and $v$ have to be nonzero n-factors. When writing $uv^T$, we get: \\begin{align}\n",
    "   \\begin{bmatrix}\n",
    "         u_{1} \\\\\n",
    "         u_{2} \\\\\n",
    "         \\vdots \\\\\n",
    "         u_{m}\n",
    "       \\end{bmatrix}\n",
    "         \\begin{bmatrix}\n",
    "  v_{1}, v_{2}, ..., v_{n}\n",
    "  \\end{bmatrix}\n",
    "\\end{align}\n",
    "<br>\n",
    "If $u$ and $v$ are zero n-factors, it would not be possible to get a 1 for $rank(A)$. Therefore, because $rank(A) = 1$, $u$ and $v$ have to be nonzero n-factors. By multiplying $u$ with $v^T$ we get matrix A "
   ]
  }
 ],
 "metadata": {
  "kernelspec": {
   "display_name": "Python 3",
   "language": "python",
   "name": "python3"
  },
  "language_info": {
   "codemirror_mode": {
    "name": "ipython",
    "version": 3
   },
   "file_extension": ".py",
   "mimetype": "text/x-python",
   "name": "python",
   "nbconvert_exporter": "python",
   "pygments_lexer": "ipython3",
   "version": "3.7.1"
  }
 },
 "nbformat": 4,
 "nbformat_minor": 4
}
