{
 "cells": [
  {
   "cell_type": "markdown",
   "metadata": {},
   "source": [
    "# Numerical Algorithms: Homework 3\n",
    "Please **submit this Jupyter notebook through Canvas** no later than **Monday November 18, 8:59**, before the start of the lecture.\n",
    "\n",
    "Homework is in **groups of two**, and you are expected to hand in original work. Work that is copied from another group will not be accepted."
   ]
  },
  {
   "cell_type": "markdown",
   "metadata": {},
   "source": [
    "-----\n",
    "# Exercise 0\n",
    "In the box below, write down the names + student ID of the people in your group."
   ]
  },
  {
   "cell_type": "markdown",
   "metadata": {},
   "source": [
    "Name1: Julien Fer <br>\n",
    "Name2: Wiebe Jelsma<br>\n",
    "Student_number1: 10649441<br>\n",
    "Student_number2: 12468223 <br>\n"
   ]
  },
  {
   "cell_type": "markdown",
   "metadata": {},
   "source": [
    "-----\n",
    "# Exercise 1\n",
    "Consider the vector\n",
    "\n",
    "$a = \\begin{bmatrix}\n",
    "2 \\\\ \n",
    "3 \\\\\n",
    "\\sqrt{3}\n",
    "\\end{bmatrix}$.\n",
    "\n",
    "Specify a Householder transformation that annihilates the second and third components of this vector. Verify your result."
   ]
  },
  {
   "cell_type": "markdown",
   "metadata": {},
   "source": [
    "\n",
    "We have to find vector $b$ which annihilates the second and third component, which leads to  $b = \\begin{bmatrix}\n",
    "x \\\\ \n",
    "0 \\\\\n",
    "0\n",
    "\\end{bmatrix}$\n",
    "We can find x by $\\sqrt{2^{2} + 3^{2} + \\sqrt{3^2}}$. This result is 4 or -4. First we try to solve for matrix $b = \\begin{bmatrix}\n",
    "4 \\\\ \n",
    "0 \\\\\n",
    "0\n",
    "\\end{bmatrix}$\n",
    "Matrix $c$ we find by $\\frac{a-b}{|a-b|}$. \n",
    "We get $c = \\begin{bmatrix}\n",
    "-2/4 \\\\ \n",
    "3/4 \\\\\n",
    "\\frac{\\sqrt{3}}{4}\n",
    "\\end{bmatrix}$\n",
    "\n",
    "$I_3 = \\begin{bmatrix}\n",
    "1 & 0 & 0 \\\\ \n",
    "0&1&0\\\\\n",
    "0&0&1\n",
    "\\end{bmatrix}$\n",
    "To get $H$, we have the following equation:\n",
    "$H = I_3 - 2cc^T$. So, \n",
    "$\\begin{bmatrix}\n",
    "1 & 0 & 0 \\\\ \n",
    "0&1&0\\\\\n",
    "0&0&1\n",
    "\\end{bmatrix}$ - \n",
    "2 $\\begin{bmatrix}\n",
    "-2/4 \\\\ \n",
    "3/4 \\\\\n",
    "\\frac{\\sqrt{3}}{4}\n",
    "\\end{bmatrix}$ \n",
    "$\\begin{bmatrix}\n",
    "-2/4 &\n",
    "3/4 &\n",
    "\\frac{\\sqrt{3}}{4}\n",
    "\\end{bmatrix}$.\n",
    "We get \n",
    "$\\begin{bmatrix}\n",
    "1 & 0 & 0 \\\\ \n",
    "0&1&0\\\\\n",
    "0&0&1\n",
    "\\end{bmatrix}$ - $\\begin{bmatrix}\n",
    "0.5 & -0.75 & -\\frac{\\sqrt(3)}{4} \\\\ \n",
    "-0.75 &\\frac{9}{8}& \\frac{3\\sqrt3}{8}\\\\\n",
    "-\\frac{\\sqrt3}{4}&\\frac{3\\sqrt3}{4}&\\frac{3}{8}\n",
    "\\end{bmatrix}$.\n",
    "Matrix $H$ is than \n",
    "$\\begin{bmatrix}\n",
    "0.5 & 0.75 & \\frac{\\sqrt3}{4} \\\\ \n",
    "0.75&-\\frac{1}{8}&-\\frac{3\\sqrt3}{8}\\\\\n",
    "\\frac{\\sqrt3}{4}&-\\frac{3\\sqrt3}{8}&\\frac{5}{8}\n",
    "\\end{bmatrix}$\n",
    "\n",
    "In order to test this, we simply have to multiply matrix $H$ with $a$. Thus, \n",
    "$\\begin{bmatrix}\n",
    "0.5 & 0.75 & \\frac{\\sqrt3}{4} \\\\ \n",
    "0.75&-\\frac{1}{8}&-\\frac{3\\sqrt3}{8}\\\\\n",
    "\\frac{\\sqrt3}{4}&-\\frac{3\\sqrt3}{8}&\\frac{5}{8}\n",
    "\\end{bmatrix}$ \n",
    "$\\begin{bmatrix}\n",
    "2 \\\\ \n",
    "3 \\\\\n",
    "\\sqrt{3}\n",
    "\\end{bmatrix}$ = \n",
    "$\\begin{bmatrix}\n",
    "4 \\\\ \n",
    "0 \\\\\n",
    "0\n",
    "\\end{bmatrix}$\n",
    "\n",
    "Now, lets check for matrix $b$ = $\\begin{bmatrix}\n",
    "-4 \\\\ \n",
    "0 \\\\\n",
    "0\n",
    "\\end{bmatrix}$\n",
    "Matrix $c$ will be $\\begin{bmatrix}\n",
    "\\frac{\\sqrt(3)}{2} \\\\ \n",
    "\\frac{\\sqrt(3)}{4} \\\\\n",
    "1/4\n",
    "\\end{bmatrix}$\n",
    "We will have to find matrix $H$ again.\n",
    "So, $H = I_3 - 2cc^T$\n",
    "$\\begin{bmatrix}\n",
    "1 & 0 & 0 \\\\ \n",
    "0&1&0\\\\\n",
    "0&0&1\n",
    "\\end{bmatrix}$ - \n",
    "2 $\\begin{bmatrix}\n",
    "\\frac{\\sqrt(3)}{2} \\\\ \n",
    "\\frac{\\sqrt(3)}{4} \\\\\n",
    "1/4\n",
    "\\end{bmatrix}$ \n",
    "$\\begin{bmatrix}\n",
    "\\frac{\\sqrt(3)}{2} & \n",
    "\\frac{\\sqrt(3)}{4} &\n",
    "1/4\n",
    "\\end{bmatrix}$. Results in\n",
    "$\\begin{bmatrix}\n",
    "1 & 0 & 0 \\\\ \n",
    "0&1&0\\\\\n",
    "0&0&1\n",
    "\\end{bmatrix}$ - $\\begin{bmatrix}\n",
    "3/2 & 3/4 & \\frac{\\sqrt(3)}{4} \\\\ \n",
    "3/4 &3/8 &\\frac{\\sqrt(3)}{8}\\\\\n",
    "\\frac{\\sqrt(3)}{4}& \\frac{\\sqrt(3)}{8} &1/8\n",
    "\\end{bmatrix}$ = \n",
    "$\\begin{bmatrix}\n",
    "-1/2 & -3/4 & -\\frac{\\sqrt(3)}{4} \\\\ \n",
    "-3/4 &5/8 &-\\frac{\\sqrt(3)}{8}\\\\\n",
    "-\\frac{\\sqrt(3)}{4}& -\\frac{\\sqrt(3)}{8} &7/8\n",
    "\\end{bmatrix}$\n",
    "Lets verify the results!\n",
    "$\\begin{bmatrix}\n",
    "-1/2 & -3/4 & -\\frac{\\sqrt(3)}{4} \\\\ \n",
    "-3/4 &5/8 &-\\frac{\\sqrt(3)}{8}\\\\\n",
    "-\\frac{\\sqrt(3)}{4}& -\\frac{\\sqrt(3)}{8} &7/8\n",
    "\\end{bmatrix}$ *\n",
    "$\\begin{bmatrix}\n",
    "2 \\\\ \n",
    "3 \\\\\n",
    "\\sqrt{3}\n",
    "\\end{bmatrix}$ = $\\begin{bmatrix}\n",
    "-4 \\\\ \n",
    "0 \\\\\n",
    "0\n",
    "\\end{bmatrix}$.\n",
    "So yes, we annihilated the second and third component of vector $a$"
   ]
  },
  {
   "cell_type": "markdown",
   "metadata": {},
   "source": [
    "-----\n",
    "# Exercise 2\n",
    "\n",
    "Given are data points $(t_{i},y_{i})$, for $i=1, \\ldots , 11$, with $t_i$ equally spaced between $-1$ and $1$, i.e.\n",
    "\n",
    "$$\n",
    "t_i = -1 + \\frac{2}{10} (i-1),\n",
    "$$\n",
    "and \n",
    "\\begin{equation}\\tag{1}\n",
    "y_{i} =\n",
    "\\begin{cases} \n",
    "1 & \\text{if } -0.5 < t_{i} < 0.1, \\\\\n",
    "0 & \\text{otherwise}.\n",
    "\\end{cases}\n",
    "\\end{equation}\n",
    "\n",
    "\n",
    "\n",
    "## (a) \n",
    "Determine a degree 10 polynomial that passes through the data points. Plot the result (include the datapoints in your plot)"
   ]
  },
  {
   "cell_type": "code",
   "execution_count": 1,
   "metadata": {},
   "outputs": [],
   "source": [
    "import matplotlib.pyplot as plt\n",
    "import numpy as np\n",
    "import math\n",
    "from numpy import linalg as LA"
   ]
  },
  {
   "cell_type": "code",
   "execution_count": 2,
   "metadata": {},
   "outputs": [
    {
     "data": {
      "text/plain": [
       "<matplotlib.legend.Legend at 0xe67bdf0>"
      ]
     },
     "execution_count": 2,
     "metadata": {},
     "output_type": "execute_result"
    },
    {
     "data": {
      "image/png": "[encoded data removed]",
      "text/plain": [
       "<Figure size 432x288 with 1 Axes>"
      ]
     },
     "metadata": {
      "needs_background": "light"
     },
     "output_type": "display_data"
    }
   ],
   "source": [
    "# create lists for the generated points\n",
    "tlist = []\n",
    "ylist = []\n",
    "# iterate for 1...11\n",
    "time = np.linspace(1,11,11)\n",
    "for number in time:\n",
    "    t = (2/10)*(number-1) - 1\n",
    "    if -0.5 < t < 0.1:\n",
    "        y = 1\n",
    "    else:\n",
    "        y = 0\n",
    "    tlist.append(t)\n",
    "    ylist.append(y)\n",
    "\n",
    "# degree 10 polynomial fit\n",
    "p = np.polyfit(tlist,ylist,10);\n",
    "onePoly = np.poly1d(p)\n",
    "# take a lot of steps so the line is more fluid\n",
    "xaxis = np.linspace(-1,1,100)\n",
    "plt.plot(xaxis,onePoly(xaxis), label = \"Fitted data\")\n",
    "plt.plot(tlist,ylist, 'o',label = \"Generated points\")\n",
    "plt.title(\"10 polynomial degree fit\")\n",
    "plt.xlabel(\"ti\")\n",
    "plt.ylabel(\"yi\")\n",
    "plt.legend()\n"
   ]
  },
  {
   "cell_type": "markdown",
   "metadata": {},
   "source": [
    "Explain your answer, using $\\LaTeX$, in this cell. "
   ]
  },
  {
   "cell_type": "markdown",
   "metadata": {},
   "source": [
    "## (b) \n",
    "Fit the data with a degree 7 polynomial. Describe the difference between 2a) and 2b).\n"
   ]
  },
  {
   "cell_type": "code",
   "execution_count": 3,
   "metadata": {},
   "outputs": [
    {
     "data": {
      "text/plain": [
       "<matplotlib.legend.Legend at 0xf7212f0>"
      ]
     },
     "execution_count": 3,
     "metadata": {},
     "output_type": "execute_result"
    },
    {
     "data": {
      "image/png": "[encoded data removed]",
      "text/plain": [
       "<Figure size 432x288 with 1 Axes>"
      ]
     },
     "metadata": {
      "needs_background": "light"
     },
     "output_type": "display_data"
    }
   ],
   "source": [
    "# degree 7 polynomial fit\n",
    "# we already have the points generated, only need to use the 7th polynomial degree\n",
    "secondP = np.polyfit(tlist,ylist,7);\n",
    "secondOnePoly = np.poly1d(secondP)\n",
    "# take a lot of steps so the line is more fluid\n",
    "secondedxaxis = np.linspace(-1,1,100)\n",
    "plt.plot(secondedxaxis,secondOnePoly(secondedxaxis), label = \"Fitted data\")\n",
    "plt.plot(tlist,ylist, 'o',label = \"Generated points\")\n",
    "plt.title(\"7 polynomial degree fit\")\n",
    "plt.xlabel(\"ti\")\n",
    "plt.ylabel(\"yi\")\n",
    "plt.legend()"
   ]
  },
  {
   "cell_type": "markdown",
   "metadata": {},
   "source": [
    "We see that at 2.a the line follows the points exactly, while at 2.b there seem to be slight mistakes. The fitted data goes not through all the generated data, which is weird. In 2.a we see that this can happen. This is because we used degree 7 polynomial instead of 10. We see that in this case, a higher degree improves the accuracy! 10 degrees are noticibly better, considering the fitted data goes through all the generated points, while is doesn't happen with 7 degrees. We do see, however, that the highest value at $2.a$ is close to 5, while it is 1.2 at $2.b$. This is better, considering we only have the $y_i$ values of 0 or 1."
   ]
  },
  {
   "cell_type": "markdown",
   "metadata": {},
   "source": [
    "## (c) \n",
    "Look up the definition of Chebyshev nodes on Wikipedia (they are also introduced in _chapter 7_). \n",
    "\n",
    "Let $s_{1}, ..., s_{11}$ be the Chebyshev nodes for $n=11$. Consider\n",
    "$y_i$ as described in $(1)$, but replace $t_i$ by $s_i$. \n",
    "\n",
    "Repeat question (a) for these new data points.\n",
    "Describe the qualitative differences between the results of (a) and (b) and between the results of (a) and (c)."
   ]
  },
  {
   "cell_type": "code",
   "execution_count": 4,
   "metadata": {},
   "outputs": [
    {
     "data": {
      "text/plain": [
       "<matplotlib.legend.Legend at 0xf7772f0>"
      ]
     },
     "execution_count": 4,
     "metadata": {},
     "output_type": "execute_result"
    },
    {
     "data": {
      "image/png": "[encoded data removed]",
      "text/plain": [
       "<Figure size 432x288 with 1 Axes>"
      ]
     },
     "metadata": {
      "needs_background": "light"
     },
     "output_type": "display_data"
    }
   ],
   "source": [
    "# create lists for the generated points\n",
    "tChebyshevList = []\n",
    "yChebyshevList = []\n",
    "n = 11\n",
    "# iterate for 1...11\n",
    "timeChebyshev = np.linspace(1,11,11)\n",
    "for k in timeChebyshev:\n",
    "    tChebyshev = math.cos(((2*k-1)/ (2*n))*math.pi)\n",
    "    if -0.5 < tChebyshev < 0.1:\n",
    "        yChebyshev = 1\n",
    "    else:\n",
    "        yChebyshev = 0\n",
    "    tChebyshevList.append(tChebyshev)\n",
    "    yChebyshevList.append(yChebyshev)\n",
    "\n",
    "# degree 10 Chebyshev fit\n",
    "pChebyshev = np.polyfit(tChebyshevList,yChebyshevList,10);\n",
    "onePolyChebyshev = np.poly1d(pChebyshev)\n",
    "# take a lot of steps so the line is more fluid\n",
    "xaxisChebyshev = np.linspace(-1,1,100)\n",
    "plt.plot(xaxisChebyshev,onePolyChebyshev(xaxisChebyshev), label = \"Fitted data\")\n",
    "plt.plot(tChebyshevList,yChebyshevList, 'o',label = \"Generated points\")\n",
    "plt.title(\"10 polynomial degree fit Chebyshev\")\n",
    "plt.xlabel(\"si\")\n",
    "plt.ylabel(\"yi\")\n",
    "plt.legend()"
   ]
  },
  {
   "cell_type": "markdown",
   "metadata": {},
   "source": [
    "Here, we can see that the 10 degree Chebyshev looks more like $2.b$ than $2.a$. It follows the outline of $2.b$, but does actually collide with all generated points. The fitted data is not that far from the $y_i$ values. At the highest point it is a bit above 1.2, at the lowest point a bit below 0. The big difference is that Chebyshev works best. It actually goes through all the generated points, and the fitted data does not stray too much from the range of 0 to 1. We know that it should not be too far away from this, because all our $y_i$ data is either 0 or 1. Considering the $y_i$ values of the Chebyshev nodes do not differ too much and the fitted data goes through all generated points, we say that Chebyshev works the best. It is the combination of $2.a$ and $2.b$, where it takes the values for $y_i$ from $2.b$ and the correctness of passing through all generated points from $2.a$.\n",
    "$2.a$ was not correct considering the values for $y_i$ differ too much from our generated data, and $2.b$ is not perfect because it simply does not go through all generated points. \n"
   ]
  },
  {
   "cell_type": "markdown",
   "metadata": {},
   "source": [
    "## (d) \n",
    "Compute the condition numbers of the Vandermonde matrices from (a), (b) and (c)."
   ]
  },
  {
   "cell_type": "code",
   "execution_count": 5,
   "metadata": {},
   "outputs": [
    {
     "name": "stdout",
     "output_type": "stream",
     "text": [
      "Polyfit 10 degrees:  4.6252600887115777e+176\n",
      "Polyfit 7 degrees:  4.411601720142545e+24\n",
      "Chebyshev 10 degrees:  1.3295869748704375e+28\n"
     ]
    }
   ],
   "source": [
    "# take the Vandermonde matrix, calculate condition number\n",
    "# increasing = True, we want all 1's in the most left column\n",
    "# $2.a$\n",
    "vandermondea = np.vander(onePoly(xaxis), increasing = True)\n",
    "print(\"Polyfit 10 degrees: \", LA.cond(vandermondea))\n",
    "# $2.b$\n",
    "vandermondeb = np.vander(secondOnePoly(secondedxaxis),   increasing = True)\n",
    "print(\"Polyfit 7 degrees: \", LA.cond(vandermondeb))\n",
    "# $2.c$\n",
    "vandermondec = np.vander(onePolyChebyshev(xaxisChebyshev),  increasing = True)\n",
    "print(\"Chebyshev 10 degrees: \", LA.cond(vandermondec))"
   ]
  },
  {
   "cell_type": "markdown",
   "metadata": {},
   "source": [
    "The condition number of the Vandermonde matrix of $2.b$ is the smallest! The condition number measures how much the outcome can differ for a small change in the input. We see that our condition numbers are very big, which is not a really good sign. It means that the output differs a lot if the input changes a bit. We see that the condition number of the 10 degrees is crazy high. This shows that it is very sensible for errors. The Chebyshev is also high. Way higher than the 7 degress, but not comparable to the 10 degrees. All numbers are very high, so all are sensitive to errors, but the 7 degrees polynomial is the lowest. "
   ]
  }
 ],
 "metadata": {
  "kernelspec": {
   "display_name": "Python 3",
   "language": "python",
   "name": "python3"
  },
  "language_info": {
   "codemirror_mode": {
    "name": "ipython",
    "version": 3
   },
   "file_extension": ".py",
   "mimetype": "text/x-python",
   "name": "python",
   "nbconvert_exporter": "python",
   "pygments_lexer": "ipython3",
   "version": "3.7.1"
  }
 },
 "nbformat": 4,
 "nbformat_minor": 2
}
