{
 "cells": [
  {
   "cell_type": "markdown",
   "metadata": {},
   "source": [
    "Please **submit this Jupyter notebook through Canvas** no later than **December 2, 8:59**, before the start of the lecture.\n",
    "\n",
    "Homework is in **groups of two**, and you are expected to hand in original work. Work that is copied from another group will not be accepted.\n",
    "\n",
    "# Exercise 0\n",
    "In the box below, write down the names + student ID of the people in your group."
   ]
  },
  {
   "cell_type": "markdown",
   "metadata": {},
   "source": [
    "Name1: Julien Fer <br>\n",
    "Name2: Wiebe Jelsma<br>\n",
    "Student_number1: 10649441<br>\n",
    "Student_number2: 12468223 <br>\n"
   ]
  },
  {
   "cell_type": "markdown",
   "metadata": {},
   "source": [
    "-----\n",
    "# Exercise 1\n",
    "Consider the function\n",
    "\n",
    "$$\n",
    "  f(x) = 600 x^4 - 550 x^3 + 200 x^2 - 20 x -1.\n",
    "$$\n",
    "\n",
    "This function contains a zero in the interval $[0.1, 1.0]$. In this exercise you may use library routines, or routines that you have implemented yourself."
   ]
  },
  {
   "cell_type": "markdown",
   "metadata": {},
   "source": [
    "## (a)\n",
    "Use the secant method to locate this zero. Make a graph that shows the convergence of $x$ as a function of the number of iterations."
   ]
  },
  {
   "cell_type": "code",
   "execution_count": 11,
   "metadata": {},
   "outputs": [
    {
     "name": "stdout",
     "output_type": "stream",
     "text": [
      "The value of x is  0.2323529647499185\n"
     ]
    },
    {
     "data": {
      "text/plain": [
       "<matplotlib.legend.Legend at 0x1ac8dbd0>"
      ]
     },
     "execution_count": 11,
     "metadata": {},
     "output_type": "execute_result"
    },
    {
     "data": {
      "image/png": "[encoded data removed]",
      "text/plain": [
       "<Figure size 432x288 with 1 Axes>"
      ]
     },
     "metadata": {
      "needs_background": "light"
     },
     "output_type": "display_data"
    }
   ],
   "source": [
    "from scipy import optimize\n",
    "import numpy as np\n",
    "import matplotlib.pyplot as plt\n",
    "def f(x):\n",
    "    return (600*x**4 - 550*x**3 + 200*x**2 - 20*x - 1)\n",
    "\n",
    "x0 = np.array([0.1,1.0])\n",
    "a = np.arange(-50, 50)\n",
    "xlist = []\n",
    "ylist = []\n",
    "listi = []\n",
    "for i in range(7,30):\n",
    "    root = optimize.newton(f, x0, maxiter = i)\n",
    "    xlist.append(root[0])\n",
    "    ylist.append(root[1])\n",
    "    listi.append(i)\n",
    "    \n",
    "\n",
    "print(\"The value of x is \", ylist[-1])\n",
    "# plt.plot(secondedxaxis,secondOnePoly(secondedxaxis), label = \"Fitted data\")\n",
    "plt.plot(listi,ylist, 'o',label = \"Generated points\")\n",
    "plt.title(\"Iterations needed with the secant method\")\n",
    "plt.xlabel(\"iterations\")\n",
    "plt.ylabel(\"convergence of x\")\n",
    "plt.grid()\n",
    "plt.legend()"
   ]
  },
  {
   "cell_type": "markdown",
   "metadata": {},
   "source": []
  },
  {
   "cell_type": "markdown",
   "metadata": {},
   "source": [
    "## (b)\n",
    "Use the Newton's method to locate this zero. Make a graph that shows the convergence of $x$ as a function of the number of iterations."
   ]
  },
  {
   "cell_type": "code",
   "execution_count": 15,
   "metadata": {},
   "outputs": [
    {
     "name": "stdout",
     "output_type": "stream",
     "text": [
      "The value of x is  0.23235296474991718\n"
     ]
    },
    {
     "data": {
      "text/plain": [
       "<matplotlib.legend.Legend at 0x1bd47210>"
      ]
     },
     "execution_count": 15,
     "metadata": {},
     "output_type": "execute_result"
    },
    {
     "data": {
      "image/png": "[encoded data removed]",
      "text/plain": [
       "<Figure size 432x288 with 1 Axes>"
      ]
     },
     "metadata": {
      "needs_background": "light"
     },
     "output_type": "display_data"
    }
   ],
   "source": [
    "from scipy import optimize\n",
    "import numpy as np\n",
    "def derivative(x):\n",
    "    return (2400*x**3 - 1650*x**2 + 400*x - 20)\n",
    "\n",
    "xlist2 = []\n",
    "ylist2 = []\n",
    "listi2 = []\n",
    "for i in range(6,20):\n",
    "    root = optimize.newton(f, x0, maxiter = i, fprime=lambda x: 2400*x**3 - 1650*x**2 + 400*x - 20)\n",
    "    xlist2.append(root[0])\n",
    "    ylist2.append(root[1])\n",
    "    listi2.append(i)\n",
    "    \n",
    "\n",
    "print(\"The value of x is \", ylist2[-1])\n",
    "# plt.plot(secondedxaxis,secondOnePoly(secondedxaxis), label = \"Fitted data\")\n",
    "plt.plot(listi2,ylist2, 'o',label = \"Generated points\")\n",
    "plt.title(\"Iterations needed with the Newton method\")\n",
    "plt.xlabel(\"iterations\")\n",
    "plt.ylabel(\"convergence of x\")\n",
    "plt.grid()\n",
    "plt.axis([None, None, 0.22, 0.25])\n",
    "plt.legend()\n"
   ]
  },
  {
   "cell_type": "markdown",
   "metadata": {},
   "source": []
  },
  {
   "cell_type": "markdown",
   "metadata": {},
   "source": [
    "## (c)\n",
    "Briefly compare the convergence behavior of the Newton and secant methods. Is there a large difference?"
   ]
  },
  {
   "cell_type": "code",
   "execution_count": 3,
   "metadata": {},
   "outputs": [],
   "source": [
    "# python code here"
   ]
  },
  {
   "cell_type": "markdown",
   "metadata": {},
   "source": [
    "No. We see that both methods do not work when the iterations are too low, that is why we start counting them from 6 or 7 iterations. We see that they quickly go to the correct value and stay there. We do not see a difference in the amount of iterations needed."
   ]
  },
  {
   "cell_type": "markdown",
   "metadata": {},
   "source": [
    "---\n",
    "# Exercise 2"
   ]
  },
  {
   "cell_type": "markdown",
   "metadata": {},
   "source": [
    "## (a)\n",
    " The Rosenbrock function is given by\n",
    "\n",
    "$$\n",
    "f(x,y) = 100 (y-x^2)^2 + (1-x)^2\n",
    "$$\n",
    "\n",
    "What is the derivative of $f$? Show that there is exactly one local minimum point and determine this point (N.B. this is a pen-and-paper exercise.)"
   ]
  },
  {
   "cell_type": "markdown",
   "metadata": {},
   "source": [
    "The derivative of $f(x,y)$ will consist of two derivatives, namely $\\frac{df}{dx}$ and $\\frac{df}{dy}$. The derivatives of $f$ will be:\n",
    "$\\frac{df}{dx} = -400x(y-x^2) - 2(1-x)$ and $\\frac{df}{dy} = 200(y-x^2)$. In order to prove that there is only one local minimum, we put the derivatives equal to 0. Thus, we have to solve the following equation:\n",
    "$-400x(y-x^2) - 2(1-x) = 0$ and $200(y-x^2) = 0$. We start with $\\frac{df}{dy}$.\n",
    "We have $200(y-x^2) = 0$, this we can write as $200y - 200x^2 = 0$. This becomes $200y = 200x^2$, or $y = x^2$. We use this in $\\frac{df}{dx}$. This becomes $-400x(x^2-x^2) - 2(1-x) = 0$. We see that $-400x(0) - 2(1-x) = 0$ is the same as $-2(1-x) = 0$.\n",
    "This becomes $-2 + 2x = 0$, or $2 = 2x$. This, $x = 1$.\n",
    "Because $y = x^2$, $y = 1^2$ which is also $1$. Thus, the local minimum will be at $f(1,1)$."
   ]
  },
  {
   "cell_type": "markdown",
   "metadata": {},
   "source": [
    "## (b)\n",
    "Implement the method of steepest descent. Use ``scipy.optimize.line_search`` as line search method.\n",
    "\n",
    "Test your method on the Rosenbrock function starting from $(x,y) = (0,0)$.\n",
    "Plot the convergence to the minimum.\n"
   ]
  },
  {
   "cell_type": "code",
   "execution_count": 4,
   "metadata": {},
   "outputs": [],
   "source": [
    "# python code here"
   ]
  },
  {
   "cell_type": "markdown",
   "metadata": {},
   "source": []
  },
  {
   "cell_type": "markdown",
   "metadata": {},
   "source": [
    "----\n",
    "# Exercise 3"
   ]
  },
  {
   "cell_type": "markdown",
   "metadata": {},
   "source": [
    "## (a) \n",
    "\n",
    "Implement the BFGS method for unconstrained optimization, given in Heath chapter 6. Test the correctness of the code using the data in Example 6.13."
   ]
  },
  {
   "cell_type": "code",
   "execution_count": 7,
   "metadata": {},
   "outputs": [
    {
     "name": "stdout",
     "output_type": "stream",
     "text": [
      "Optimization terminated successfully.\n",
      "         Current function value: 0.000000\n",
      "         Iterations: 6\n",
      "         Function evaluations: 28\n",
      "         Gradient evaluations: 7\n",
      "[-2.69254920e-07 -7.03658339e-08]\n",
      "[[1.00887345 0.00213241]\n",
      " [0.00213241 0.20051245]]\n"
     ]
    }
   ],
   "source": [
    "import scipy\n",
    "def BFGSF(x0):\n",
    "    return (0.5*(x0[0]**2) + 2.5*(x0[1]**2))\n",
    "x0 = np.array([5.0,1.0])\n",
    "answer = scipy.optimize.minimize(BFGSF, x0,  method='BFGS', options={'gtol': 1e-05, 'eps': 1.4901161193847656e-08, 'maxiter': 10000, 'disp': True, 'return_all': True})\n",
    "print(answer.x)\n",
    "print(answer.hess_inv)\n",
    "# scipy.optimize.fmin_bfgs(f, x, full_output = True)\n"
   ]
  },
  {
   "cell_type": "markdown",
   "metadata": {},
   "source": []
  },
  {
   "cell_type": "markdown",
   "metadata": {},
   "source": [
    "## (b) \n",
    "\n",
    "Apply your implementation of the BFGS method to find a local minimum of the Rosenbrock function (see previous exercise). Use starting point $(0,0)$ and do not assume any knowledge of the Hessian when you choose $B_0$.\n",
    "Plot the convergence to the minimum."
   ]
  },
  {
   "cell_type": "code",
   "execution_count": 8,
   "metadata": {},
   "outputs": [
    {
     "name": "stdout",
     "output_type": "stream",
     "text": [
      "Optimization terminated successfully.\n",
      "         Current function value: 0.000000\n",
      "         Iterations: 19\n",
      "         Function evaluations: 24\n",
      "         Gradient evaluations: 24\n",
      "[0.99999913 0.99999825]\n",
      "[[0.49480256 0.98953879]\n",
      " [0.98953879 1.98387918]]\n"
     ]
    }
   ],
   "source": [
    "def Rosenbrock(x):\n",
    "    return (100*(x[1]-x[0]**2)**2 + (1-x[0])**2)\n",
    "x = np.array([0,0])\n",
    "answerRosenbrock = scipy.optimize.minimize(Rosenbrock, x ,  method='BFGS', jac=scipy.optimize.rosen_der , options={'disp': True})\n",
    "print(answerRosenbrock.x)\n",
    "print(answerRosenbrock.hess_inv)"
   ]
  },
  {
   "cell_type": "markdown",
   "metadata": {},
   "source": []
  },
  {
   "cell_type": "markdown",
   "metadata": {},
   "source": [
    "## (c)\n",
    "How does the convergence compare to that of gradient descent (see\n",
    "previous question)?\n",
    "\n",
    "NB please let your program count the number of function and gradient evaluations and\n",
    "consider this in your comparison.\n"
   ]
  },
  {
   "cell_type": "code",
   "execution_count": null,
   "metadata": {},
   "outputs": [],
   "source": [
    "# python code here"
   ]
  },
  {
   "cell_type": "markdown",
   "metadata": {},
   "source": []
  },
  {
   "cell_type": "markdown",
   "metadata": {},
   "source": [
    "## (d) \n",
    "Include an option that the algorithm gives as output the matrix $B_k$ at some or all of the timesteps. Does the matrix $B_k$ converge to the true Hessian? "
   ]
  },
  {
   "cell_type": "code",
   "execution_count": null,
   "metadata": {},
   "outputs": [],
   "source": [
    "# python code here"
   ]
  },
  {
   "cell_type": "markdown",
   "metadata": {},
   "source": []
  }
 ],
 "metadata": {
  "kernelspec": {
   "display_name": "Python 3",
   "language": "python",
   "name": "python3"
  },
  "language_info": {
   "codemirror_mode": {
    "name": "ipython",
    "version": 3
   },
   "file_extension": ".py",
   "mimetype": "text/x-python",
   "name": "python",
   "nbconvert_exporter": "python",
   "pygments_lexer": "ipython3",
   "version": "3.7.1"
  }
 },
 "nbformat": 4,
 "nbformat_minor": 2
}
